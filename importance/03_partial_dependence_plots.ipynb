{
 "cells": [
  {
   "cell_type": "markdown",
   "id": "c94d0e35",
   "metadata": {},
   "source": [
    "# 📈 03 — Partial Dependence Plots (PDP)\n",
    "In this notebook, we’ll learn how to:\n",
    "- Use **Partial Dependence Plots** to visualize feature influence\n",
    "- Understand how changing a feature value affects predictions\n",
    "- Apply PDP to both 1D and 2D feature sets"
   ]
  },
  {
   "cell_type": "markdown",
   "id": "2dd0b0ac",
   "metadata": {},
   "source": [
    "## 📥 1. Load Dataset & Train Model"
   ]
  },
  {
   "cell_type": "code",
   "execution_count": null,
   "id": "3b6dda8d",
   "metadata": {},
   "outputs": [],
   "source": [
    "from sklearn.datasets import load_breast_cancer\n",
    "import pandas as pd\n",
    "from sklearn.ensemble import GradientBoostingClassifier\n",
    "from sklearn.model_selection import train_test_split\n",
    "\n",
    "# Load and split data\n",
    "data = load_breast_cancer()\n",
    "X = pd.DataFrame(data.data, columns=data.feature_names)\n",
    "y = data.target\n",
    "\n",
    "X_train, X_test, y_train, y_test = train_test_split(X, y, test_size=0.2, random_state=42)\n",
    "\n",
    "# Train model\n",
    "model = GradientBoostingClassifier(random_state=42)\n",
    "model.fit(X_train, y_train)"
   ]
  },
  {
   "cell_type": "markdown",
   "id": "87b6e3b3",
   "metadata": {},
   "source": [
    "## 📊 2. Plot Partial Dependence"
   ]
  },
  {
   "cell_type": "code",
   "execution_count": null,
   "id": "9a7c7c9b",
   "metadata": {},
   "outputs": [],
   "source": [
    "from sklearn.inspection import PartialDependenceDisplay\n",
    "\n",
    "# 1D PDP for top 2 features\n",
    "features = [0, 1]  # feature indices or column names\n",
    "\n",
    "PartialDependenceDisplay.from_estimator(model, X_test, features, kind='average')"
   ]
  },
  {
   "cell_type": "markdown",
   "id": "d2a0e730",
   "metadata": {},
   "source": [
    "## 📉 3. 2D Partial Dependence (Interaction)"
   ]
  },
  {
   "cell_type": "code",
   "execution_count": null,
   "id": "56f945e1",
   "metadata": {},
   "outputs": [],
   "source": [
    "# 2D interaction plot between two features\n",
    "features = [(0, 1)]  # tuple of two features\n",
    "\n",
    "PartialDependenceDisplay.from_estimator(model, X_test, features, kind='average')"
   ]
  },
  {
   "cell_type": "markdown",
   "id": "2d903dc9",
   "metadata": {},
   "source": [
    "## 🧠 4. Why Use Partial Dependence?\n",
    "- Visualizes **model predictions** as a function of individual features\n",
    "- Helps interpret complex models (GBMs, RandomForest)\n",
    "- Identify **nonlinear** and **interaction** effects"
   ]
  },
  {
   "cell_type": "markdown",
   "id": "75e11855",
   "metadata": {},
   "source": [
    "## ✅ Summary\n",
    "- PDPs help interpret how features influence model predictions\n",
    "- Useful for explaining tree-based and ensemble models\n",
    "- Supports both individual and pairwise feature analysis"
   ]
  },
  {
   "cell_type": "markdown",
   "id": "12b486e9",
   "metadata": {},
   "source": [
    "## ⏭️ What’s Next?\n",
    "➡️ In the next notebook:\n",
    "**`04_shap_values_for_trees.ipynb`** — we’ll explore SHAP values for global and local model interpretability."
   ]
  }
 ],
 "metadata": {
  "kernelspec": {
   "display_name": "Python 3",
   "name": "python3"
  }
 },
 "nbformat": 4,
 "nbformat_minor": 5
}
