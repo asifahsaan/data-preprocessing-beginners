{
 "cells": [
  {
   "cell_type": "markdown",
   "id": "1f4d7afa",
   "metadata": {},
   "source": [
    "# 🔄 02 — Permutation Feature Importance\n",
    "In this notebook, we’ll learn how to:\n",
    "- Use **permutation importance** to measure feature relevance\n",
    "- Understand how shuffling each feature affects model performance\n",
    "- Apply this to any trained model"
   ]
  },
  {
   "cell_type": "markdown",
   "id": "b54bc754",
   "metadata": {},
   "source": [
    "## 📥 1. Load Dataset & Train Model"
   ]
  },
  {
   "cell_type": "code",
   "execution_count": null,
   "id": "3343db0d",
   "metadata": {},
   "outputs": [],
   "source": [
    "from sklearn.datasets import load_breast_cancer\n",
    "import pandas as pd\n",
    "from sklearn.ensemble import RandomForestClassifier\n",
    "from sklearn.model_selection import train_test_split\n",
    "\n",
    "# Load data\n",
    "data = load_breast_cancer()\n",
    "X = pd.DataFrame(data.data, columns=data.feature_names)\n",
    "y = data.target\n",
    "\n",
    "# Split\n",
    "X_train, X_test, y_train, y_test = train_test_split(X, y, test_size=0.2, random_state=42)\n",
    "\n",
    "# Train model\n",
    "model = RandomForestClassifier(random_state=42)\n",
    "model.fit(X_train, y_train)"
   ]
  },
  {
   "cell_type": "markdown",
   "id": "0c586053",
   "metadata": {},
   "source": [
    "## 🔎 2. Permutation Importance with eli5"
   ]
  },
  {
   "cell_type": "code",
   "execution_count": null,
   "id": "f4b297cf",
   "metadata": {},
   "outputs": [],
   "source": [
    "import eli5\n",
    "from eli5.sklearn import PermutationImportance\n",
    "\n",
    "perm = PermutationImportance(model, random_state=42)\n",
    "perm.fit(X_test, y_test)\n",
    "\n",
    "eli5.show_weights(perm, feature_names=X.columns.tolist())"
   ]
  },
  {
   "cell_type": "markdown",
   "id": "9f372819",
   "metadata": {},
   "source": [
    "## 🧾 3. Why Use Permutation Importance?\n",
    "- Model-agnostic: works with **any model**\n",
    "- Measures impact of shuffling each feature on accuracy\n",
    "- Highlights both linear and nonlinear effects"
   ]
  },
  {
   "cell_type": "markdown",
   "id": "21af3b0a",
   "metadata": {},
   "source": [
    "## ✅ Summary\n",
    "- Permutation importance helps validate and interpret feature relevance\n",
    "- It's slower than built-in methods but more flexible\n",
    "- Use it to confirm what features really matter"
   ]
  },
  {
   "cell_type": "markdown",
   "id": "0f2b59b8",
   "metadata": {},
   "source": [
    "## ⏭️ What’s Next?\n",
    "➡️ In the next notebook:\n",
    "**`03_partial_dependence_plots.ipynb`** — we’ll visualize how feature values influence predictions."
   ]
  }
 ],
 "metadata": {
  "kernelspec": {
   "display_name": "Python 3",
   "name": "python3"
  }
 },
 "nbformat": 4,
 "nbformat_minor": 5
}
