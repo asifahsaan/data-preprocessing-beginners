{
  "cells": [
    {
      "cell_type": "markdown",
      "id": "428b3178",
      "metadata": {
        "id": "428b3178"
      },
      "source": [
        "# 04 — Regression Metrics: MAE, MSE, RMSE, R²\n",
        "In this notebook, we'll learn how to evaluate regression models using:\n",
        "- Mean Absolute Error (MAE)\n",
        "- Mean Squared Error (MSE)\n",
        "- Root Mean Squared Error (RMSE)\n",
        "- R² Score"
      ]
    },
    {
      "cell_type": "markdown",
      "id": "8e3d8458",
      "metadata": {
        "id": "8e3d8458"
      },
      "source": [
        "## 1. Load Regression Dataset"
      ]
    },
    {
      "cell_type": "code",
      "execution_count": null,
      "id": "f65c2039",
      "metadata": {
        "id": "f65c2039"
      },
      "outputs": [],
      "source": [
        "from sklearn.datasets import fetch_california_housing\n",
        "import pandas as pd\n",
        "\n",
        "# Load dataset\n",
        "data = fetch_california_housing()\n",
        "X = pd.DataFrame(data.data, columns=data.feature_names)\n",
        "y = data.target\n",
        "\n",
        "X.shape, y.shape"
      ]
    },
    {
      "cell_type": "markdown",
      "id": "db66d421",
      "metadata": {
        "id": "db66d421"
      },
      "source": [
        "## 2. Train/Test Split"
      ]
    },
    {
      "cell_type": "code",
      "execution_count": null,
      "id": "066739d2",
      "metadata": {
        "id": "066739d2"
      },
      "outputs": [],
      "source": [
        "from sklearn.model_selection import train_test_split\n",
        "\n",
        "X_train, X_test, y_train, y_test = train_test_split(X, y, test_size=0.2, random_state=42)"
      ]
    },
    {
      "cell_type": "markdown",
      "id": "098ae74d",
      "metadata": {
        "id": "098ae74d"
      },
      "source": [
        "## 3. Train a Linear Regression Model"
      ]
    },
    {
      "cell_type": "code",
      "execution_count": null,
      "id": "765a1978",
      "metadata": {
        "id": "765a1978"
      },
      "outputs": [],
      "source": [
        "from sklearn.linear_model import LinearRegression\n",
        "\n",
        "model = LinearRegression()\n",
        "model.fit(X_train, y_train)\n",
        "y_pred = model.predict(X_test)"
      ]
    },
    {
      "cell_type": "markdown",
      "id": "04091824",
      "metadata": {
        "id": "04091824"
      },
      "source": [
        "## 4. Evaluate Using Regression Metrics"
      ]
    },
    {
      "cell_type": "code",
      "execution_count": null,
      "id": "450a1546",
      "metadata": {
        "id": "450a1546"
      },
      "outputs": [],
      "source": [
        "from sklearn.metrics import mean_absolute_error, mean_squared_error, r2_score\n",
        "import numpy as np\n",
        "\n",
        "mae = mean_absolute_error(y_test, y_pred)\n",
        "mse = mean_squared_error(y_test, y_pred)\n",
        "rmse = np.sqrt(mse)\n",
        "r2 = r2_score(y_test, y_pred)\n",
        "\n",
        "print(f\"MAE: {mae:.3f}\")\n",
        "print(f\"MSE: {mse:.3f}\")\n",
        "print(f\"RMSE: {rmse:.3f}\")\n",
        "print(f\"R² Score: {r2:.3f}\")"
      ]
    },
    {
      "cell_type": "markdown",
      "id": "d7999e69",
      "metadata": {
        "id": "d7999e69"
      },
      "source": [
        "## 5. Visualize Predictions vs Actual"
      ]
    },
    {
      "cell_type": "code",
      "execution_count": null,
      "id": "551716a5",
      "metadata": {
        "id": "551716a5"
      },
      "outputs": [],
      "source": [
        "import matplotlib.pyplot as plt\n",
        "\n",
        "plt.figure(figsize=(8, 6))\n",
        "plt.scatter(y_test, y_pred, alpha=0.5)\n",
        "plt.plot([y_test.min(), y_test.max()], [y_test.min(), y_test.max()], color='red', linestyle='--')\n",
        "plt.xlabel(\"Actual\")\n",
        "plt.ylabel(\"Predicted\")\n",
        "plt.title(\"Actual vs Predicted Values\")\n",
        "plt.grid(True)\n",
        "plt.show()"
      ]
    },
    {
      "cell_type": "markdown",
      "id": "b5d54715",
      "metadata": {
        "id": "b5d54715"
      },
      "source": [
        "## Summary\n",
        "- **MAE** gives average absolute error\n",
        "- **MSE** penalizes large errors more\n",
        "- **RMSE** is MSE in original units\n",
        "- **R² Score** tells how well the model explains the variance"
      ]
    },
    {
      "cell_type": "markdown",
      "id": "668656cb",
      "metadata": {
        "id": "668656cb"
      },
      "source": [
        "## What’s Next?\n",
        " In the next notebook:\n",
        "**`05_confusion_matrix_and_roc.ipynb`** — we’ll dive deeper into evaluating classifiers using confusion matrix and ROC curves."
      ]
    }
  ],
  "metadata": {
    "kernelspec": {
      "display_name": "Python 3",
      "name": "python3"
    },
    "colab": {
      "provenance": []
    }
  },
  "nbformat": 4,
  "nbformat_minor": 5
}