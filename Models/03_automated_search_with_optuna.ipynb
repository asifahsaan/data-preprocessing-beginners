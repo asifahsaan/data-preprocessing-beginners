{
 "cells": [
  {
   "cell_type": "markdown",
   "id": "681c7a75",
   "metadata": {},
   "source": [
    "# 🤖 03 — Automated Hyperparameter Search with Optuna\n",
    "In this notebook, we’ll use **Optuna**, a powerful optimization library, to:\n",
    "- Define a custom objective function\n",
    "- Optimize RandomForestClassifier parameters\n",
    "- Visualize the search progress and best results"
   ]
  },
  {
   "cell_type": "markdown",
   "id": "afc075ae",
   "metadata": {},
   "source": [
    "## 📥 1. Load Dataset"
   ]
  },
  {
   "cell_type": "code",
   "execution_count": null,
   "id": "5bdba529",
   "metadata": {},
   "outputs": [],
   "source": [
    "from sklearn.datasets import load_breast_cancer\n",
    "import pandas as pd\n",
    "\n",
    "# Load dataset\n",
    "data = load_breast_cancer()\n",
    "X = pd.DataFrame(data.data, columns=data.feature_names)\n",
    "y = data.target"
   ]
  },
  {
   "cell_type": "markdown",
   "id": "0c19aaa5",
   "metadata": {},
   "source": [
    "## ⚙️ 2. Train/Test Split"
   ]
  },
  {
   "cell_type": "code",
   "execution_count": null,
   "id": "9ea37e1b",
   "metadata": {},
   "outputs": [],
   "source": [
    "from sklearn.model_selection import train_test_split\n",
    "\n",
    "X_train, X_test, y_train, y_test = train_test_split(X, y, test_size=0.2, random_state=42)"
   ]
  },
  {
   "cell_type": "markdown",
   "id": "3d7e3be2",
   "metadata": {},
   "source": [
    "## 🔧 3. Define Objective Function"
   ]
  },
  {
   "cell_type": "code",
   "execution_count": null,
   "id": "54d85358",
   "metadata": {},
   "outputs": [],
   "source": [
    "import optuna\n",
    "from sklearn.ensemble import RandomForestClassifier\n",
    "from sklearn.model_selection import cross_val_score\n",
    "\n",
    "def objective(trial):\n",
    "    n_estimators = trial.suggest_int('n_estimators', 50, 200)\n",
    "    max_depth = trial.suggest_int('max_depth', 3, 15)\n",
    "    min_samples_split = trial.suggest_int('min_samples_split', 2, 10)\n",
    "\n",
    "    clf = RandomForestClassifier(\n",
    "        n_estimators=n_estimators,\n",
    "        max_depth=max_depth,\n",
    "        min_samples_split=min_samples_split,\n",
    "        random_state=42\n",
    "    )\n",
    "    score = cross_val_score(clf, X_train, y_train, cv=3).mean()\n",
    "    return score"
   ]
  },
  {
   "cell_type": "markdown",
   "id": "06787813",
   "metadata": {},
   "source": [
    "## 🚀 4. Run Optuna Study"
   ]
  },
  {
   "cell_type": "code",
   "execution_count": null,
   "id": "7fcc5f57",
   "metadata": {},
   "outputs": [],
   "source": [
    "study = optuna.create_study(direction=\"maximize\")\n",
    "study.optimize(objective, n_trials=20)"
   ]
  },
  {
   "cell_type": "markdown",
   "id": "08227d3e",
   "metadata": {},
   "source": [
    "## 🏆 5. Best Parameters & Score"
   ]
  },
  {
   "cell_type": "code",
   "execution_count": null,
   "id": "d80caac1",
   "metadata": {},
   "outputs": [],
   "source": [
    "print(\"Best Score:\", study.best_value)\n",
    "print(\"Best Parameters:\", study.best_params)"
   ]
  },
  {
   "cell_type": "markdown",
   "id": "5c9cb4a3",
   "metadata": {},
   "source": [
    "## 📊 6. Visualization"
   ]
  },
  {
   "cell_type": "code",
   "execution_count": null,
   "id": "6b8788bc",
   "metadata": {},
   "outputs": [],
   "source": [
    "import optuna.visualization as vis\n",
    "\n",
    "# These are interactive in JupyterLab or nbviewer\n",
    "vis.plot_optimization_history(study).show()\n",
    "vis.plot_param_importances(study).show()"
   ]
  },
  {
   "cell_type": "markdown",
   "id": "5cfca41b",
   "metadata": {},
   "source": [
    "## ✅ Summary\n",
    "- Used Optuna to automate hyperparameter tuning\n",
    "- Defined a search space and evaluated with cross-validation\n",
    "- Visualized results to understand search behavior"
   ]
  },
  {
   "cell_type": "markdown",
   "id": "51b8c8b2",
   "metadata": {},
   "source": [
    "## ⏭️ What’s Next?\n",
    "➡️ In the next notebook:\n",
    "**`04_nested_cv_for_tuning.ipynb`** — we’ll combine tuning and evaluation using nested cross-validation."
   ]
  }
 ],
 "metadata": {
  "kernelspec": {
   "display_name": "Python 3",
   "name": "python3"
  }
 },
 "nbformat": 4,
 "nbformat_minor": 5
}
