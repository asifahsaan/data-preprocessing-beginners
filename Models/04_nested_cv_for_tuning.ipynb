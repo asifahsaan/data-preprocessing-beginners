{
  "cells": [
    {
      "cell_type": "markdown",
      "metadata": {
        "id": "view-in-github",
        "colab_type": "text"
      },
      "source": [
        "<a href=\"https://colab.research.google.com/github/asifahsaan/data-preprocessing-beginners/blob/main/Models/04_nested_cv_for_tuning.ipynb\" target=\"_parent\"><img src=\"https://colab.research.google.com/assets/colab-badge.svg\" alt=\"Open In Colab\"/></a>"
      ]
    },
    {
      "cell_type": "markdown",
      "id": "5c4fbdb9",
      "metadata": {
        "id": "5c4fbdb9"
      },
      "source": [
        "# 🔁 04 — Nested Cross-Validation for Hyperparameter Tuning\n",
        "In this notebook, we’ll learn how to:\n",
        "- Combine hyperparameter tuning with performance evaluation\n",
        "- Avoid data leakage using **nested cross-validation**\n",
        "- Use `GridSearchCV` inside an outer cross-validation loop"
      ]
    },
    {
      "cell_type": "markdown",
      "id": "1c18e88d",
      "metadata": {
        "id": "1c18e88d"
      },
      "source": [
        "## 📥 1. Load Dataset"
      ]
    },
    {
      "cell_type": "code",
      "execution_count": null,
      "id": "fbdb45c5",
      "metadata": {
        "id": "fbdb45c5"
      },
      "outputs": [],
      "source": [
        "from sklearn.datasets import load_breast_cancer\n",
        "import pandas as pd\n",
        "\n",
        "# Load dataset\n",
        "data = load_breast_cancer()\n",
        "X = pd.DataFrame(data.data, columns=data.feature_names)\n",
        "y = data.target"
      ]
    },
    {
      "cell_type": "markdown",
      "id": "03c4af7a",
      "metadata": {
        "id": "03c4af7a"
      },
      "source": [
        "## 🧱 2. Setup Pipeline & Param Grid"
      ]
    },
    {
      "cell_type": "code",
      "execution_count": null,
      "id": "95af6796",
      "metadata": {
        "id": "95af6796"
      },
      "outputs": [],
      "source": [
        "from sklearn.pipeline import Pipeline\n",
        "from sklearn.preprocessing import StandardScaler\n",
        "from sklearn.ensemble import RandomForestClassifier\n",
        "\n",
        "pipeline = Pipeline([\n",
        "    ('scaler', StandardScaler()),\n",
        "    ('clf', RandomForestClassifier(random_state=42))\n",
        "])\n",
        "\n",
        "param_grid = {\n",
        "    'clf__n_estimators': [50, 100],\n",
        "    'clf__max_depth': [None, 5, 10]\n",
        "}"
      ]
    },
    {
      "cell_type": "markdown",
      "id": "2e743b03",
      "metadata": {
        "id": "2e743b03"
      },
      "source": [
        "## 🔄 3. Nested Cross-Validation Setup"
      ]
    },
    {
      "cell_type": "code",
      "execution_count": null,
      "id": "8176b6ee",
      "metadata": {
        "id": "8176b6ee"
      },
      "outputs": [],
      "source": [
        "from sklearn.model_selection import GridSearchCV, cross_val_score, StratifiedKFold\n",
        "\n",
        "# Inner CV: used for tuning\n",
        "inner_cv = StratifiedKFold(n_splits=3)\n",
        "\n",
        "# Outer CV: used for evaluation\n",
        "outer_cv = StratifiedKFold(n_splits=5)\n",
        "\n",
        "# Grid search inside each outer fold\n",
        "grid_search = GridSearchCV(pipeline, param_grid, cv=inner_cv, n_jobs=-1)"
      ]
    },
    {
      "cell_type": "markdown",
      "id": "485de64b",
      "metadata": {
        "id": "485de64b"
      },
      "source": [
        "## 🧪 4. Run Nested CV"
      ]
    },
    {
      "cell_type": "code",
      "execution_count": null,
      "id": "67f6ee77",
      "metadata": {
        "id": "67f6ee77"
      },
      "outputs": [],
      "source": [
        "nested_scores = cross_val_score(grid_search, X, y, cv=outer_cv)\n",
        "\n",
        "print(\"Nested CV Accuracy Scores:\", nested_scores)\n",
        "print(\"Mean Accuracy:\", nested_scores.mean())"
      ]
    },
    {
      "cell_type": "markdown",
      "id": "db80c0a9",
      "metadata": {
        "id": "db80c0a9"
      },
      "source": [
        "## ✅ Summary\n",
        "- Nested cross-validation avoids overfitting during model selection\n",
        "- Combines inner tuning and outer evaluation\n",
        "- Especially useful for small or sensitive datasets"
      ]
    },
    {
      "cell_type": "markdown",
      "id": "f1e833ee",
      "metadata": {
        "id": "f1e833ee"
      },
      "source": [
        "🎉 You've completed the **Hyperparameter Tuning & Optimization** module!\n",
        "Next up: **Model Interpretability** or continue with another advanced module."
      ]
    }
  ],
  "metadata": {
    "kernelspec": {
      "display_name": "Python 3",
      "name": "python3"
    },
    "colab": {
      "provenance": [],
      "include_colab_link": true
    }
  },
  "nbformat": 4,
  "nbformat_minor": 5
}