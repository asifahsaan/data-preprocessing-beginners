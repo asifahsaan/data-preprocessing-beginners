{
  "cells": [
    {
      "cell_type": "markdown",
      "metadata": {
        "id": "view-in-github",
        "colab_type": "text"
      },
      "source": [
        "<a href=\"https://colab.research.google.com/github/asifahsaan/data-preprocessing-beginners/blob/main/Models/02_hyperparameter_tuning_with_pipeline.ipynb\" target=\"_parent\"><img src=\"https://colab.research.google.com/assets/colab-badge.svg\" alt=\"Open In Colab\"/></a>"
      ]
    },
    {
      "cell_type": "markdown",
      "id": "3a92811f",
      "metadata": {
        "id": "3a92811f"
      },
      "source": [
        "# 🔧 02 — Hyperparameter Tuning with Pipeline\n",
        "In this notebook, we’ll learn how to:\n",
        "- Combine preprocessing and model into one pipeline\n",
        "- Tune hyperparameters across both preprocessing and model\n",
        "- Use `GridSearchCV` for end-to-end tuning"
      ]
    },
    {
      "cell_type": "markdown",
      "id": "cfbaf068",
      "metadata": {
        "id": "cfbaf068"
      },
      "source": [
        "## 📥 1. Load Dataset"
      ]
    },
    {
      "cell_type": "code",
      "execution_count": null,
      "id": "d6ae65e0",
      "metadata": {
        "id": "d6ae65e0"
      },
      "outputs": [],
      "source": [
        "from sklearn.datasets import load_breast_cancer\n",
        "import pandas as pd\n",
        "\n",
        "# Load dataset\n",
        "data = load_breast_cancer()\n",
        "X = pd.DataFrame(data.data, columns=data.feature_names)\n",
        "y = data.target"
      ]
    },
    {
      "cell_type": "markdown",
      "id": "685a6ceb",
      "metadata": {
        "id": "685a6ceb"
      },
      "source": [
        "## 🧱 2. Create a Pipeline with Preprocessing + Model"
      ]
    },
    {
      "cell_type": "code",
      "execution_count": null,
      "id": "bbfbd8fa",
      "metadata": {
        "id": "bbfbd8fa"
      },
      "outputs": [],
      "source": [
        "from sklearn.model_selection import train_test_split\n",
        "from sklearn.pipeline import Pipeline\n",
        "from sklearn.preprocessing import StandardScaler\n",
        "from sklearn.ensemble import RandomForestClassifier\n",
        "\n",
        "X_train, X_test, y_train, y_test = train_test_split(X, y, test_size=0.2, random_state=42)\n",
        "\n",
        "pipeline = Pipeline([\n",
        "    ('scaler', StandardScaler()),\n",
        "    ('clf', RandomForestClassifier(random_state=42))\n",
        "])"
      ]
    },
    {
      "cell_type": "markdown",
      "id": "e6a87e81",
      "metadata": {
        "id": "e6a87e81"
      },
      "source": [
        "## 🛠️ 3. Define Param Grid for Pipeline"
      ]
    },
    {
      "cell_type": "code",
      "execution_count": null,
      "id": "fc82df1b",
      "metadata": {
        "id": "fc82df1b"
      },
      "outputs": [],
      "source": [
        "param_grid = {\n",
        "    'clf__n_estimators': [50, 100, 150],\n",
        "    'clf__max_depth': [None, 5, 10]\n",
        "}"
      ]
    },
    {
      "cell_type": "markdown",
      "id": "0696121d",
      "metadata": {
        "id": "0696121d"
      },
      "source": [
        "## 🔎 4. Run GridSearchCV on Pipeline"
      ]
    },
    {
      "cell_type": "code",
      "execution_count": null,
      "id": "2e6bdbda",
      "metadata": {
        "id": "2e6bdbda"
      },
      "outputs": [],
      "source": [
        "from sklearn.model_selection import GridSearchCV\n",
        "\n",
        "grid_search = GridSearchCV(pipeline, param_grid, cv=3, n_jobs=-1)\n",
        "grid_search.fit(X_train, y_train)\n",
        "\n",
        "print(\"Best Parameters:\", grid_search.best_params_)\n",
        "print(\"Best Cross-Validated Score:\", grid_search.best_score_)"
      ]
    },
    {
      "cell_type": "markdown",
      "id": "459faca0",
      "metadata": {
        "id": "459faca0"
      },
      "source": [
        "## ✅ 5. Evaluate on Test Set"
      ]
    },
    {
      "cell_type": "code",
      "execution_count": null,
      "id": "8ab8ea32",
      "metadata": {
        "id": "8ab8ea32"
      },
      "outputs": [],
      "source": [
        "from sklearn.metrics import accuracy_score\n",
        "\n",
        "y_pred = grid_search.predict(X_test)\n",
        "test_acc = accuracy_score(y_test, y_pred)\n",
        "\n",
        "print(f\"Test Accuracy: {test_acc:.3f}\")"
      ]
    },
    {
      "cell_type": "markdown",
      "id": "06234566",
      "metadata": {
        "id": "06234566"
      },
      "source": [
        "## ✅ Summary\n",
        "- Built a full pipeline with scaler + classifier\n",
        "- Tuned classifier parameters using `GridSearchCV`\n",
        "- Pipelines make tuning cleaner and reduce data leakage risk"
      ]
    },
    {
      "cell_type": "markdown",
      "id": "7fcaa658",
      "metadata": {
        "id": "7fcaa658"
      },
      "source": [
        "## ⏭️ What’s Next?\n",
        "➡️ In the next notebook:\n",
        "**`03_automated_search_with_optuna.ipynb`** — we’ll explore smarter, faster optimization using Optuna."
      ]
    }
  ],
  "metadata": {
    "kernelspec": {
      "display_name": "Python 3",
      "name": "python3"
    },
    "colab": {
      "provenance": [],
      "include_colab_link": true
    }
  },
  "nbformat": 4,
  "nbformat_minor": 5
}