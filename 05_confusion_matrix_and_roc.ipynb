{
  "cells": [
    {
      "cell_type": "markdown",
      "id": "62064261",
      "metadata": {
        "id": "62064261"
      },
      "source": [
        "# 05 — Confusion Matrix & ROC Curve\n",
        "In this notebook, we'll explore deeper diagnostic tools for classification models:\n",
        "- Confusion Matrix\n",
        "- ROC Curve & AUC\n",
        "- Visual interpretation of model performance"
      ]
    },
    {
      "cell_type": "markdown",
      "id": "212fe9e9",
      "metadata": {
        "id": "212fe9e9"
      },
      "source": [
        "## 1. Load Dataset & Train Model"
      ]
    },
    {
      "cell_type": "code",
      "execution_count": null,
      "id": "32368cda",
      "metadata": {
        "id": "32368cda"
      },
      "outputs": [],
      "source": [
        "from sklearn.datasets import load_breast_cancer\n",
        "from sklearn.model_selection import train_test_split\n",
        "from sklearn.linear_model import LogisticRegression\n",
        "import pandas as pd\n",
        "\n",
        "# Load dataset\n",
        "data = load_breast_cancer()\n",
        "X = pd.DataFrame(data.data, columns=data.feature_names)\n",
        "y = data.target\n",
        "\n",
        "# Split data\n",
        "X_train, X_test, y_train, y_test = train_test_split(X, y, test_size=0.2, random_state=42)\n",
        "\n",
        "# Train model\n",
        "model = LogisticRegression(max_iter=500)\n",
        "model.fit(X_train, y_train)\n",
        "y_pred = model.predict(X_test)"
      ]
    },
    {
      "cell_type": "markdown",
      "id": "1b9c0c9c",
      "metadata": {
        "id": "1b9c0c9c"
      },
      "source": [
        "## 2. Confusion Matrix"
      ]
    },
    {
      "cell_type": "code",
      "execution_count": null,
      "id": "996b71ff",
      "metadata": {
        "id": "996b71ff"
      },
      "outputs": [],
      "source": [
        "from sklearn.metrics import confusion_matrix, ConfusionMatrixDisplay\n",
        "\n",
        "cm = confusion_matrix(y_test, y_pred)\n",
        "disp = ConfusionMatrixDisplay(confusion_matrix=cm, display_labels=data.target_names)\n",
        "disp.plot(cmap='Blues')"
      ]
    },
    {
      "cell_type": "markdown",
      "id": "cd4fc66d",
      "metadata": {
        "id": "cd4fc66d"
      },
      "source": [
        "## 3. ROC Curve & AUC"
      ]
    },
    {
      "cell_type": "code",
      "execution_count": null,
      "id": "35ee81af",
      "metadata": {
        "id": "35ee81af"
      },
      "outputs": [],
      "source": [
        "from sklearn.metrics import roc_curve, roc_auc_score\n",
        "import matplotlib.pyplot as plt\n",
        "\n",
        "y_proba = model.predict_proba(X_test)[:, 1]\n",
        "fpr, tpr, thresholds = roc_curve(y_test, y_proba)\n",
        "auc = roc_auc_score(y_test, y_proba)\n",
        "\n",
        "plt.figure(figsize=(8, 6))\n",
        "plt.plot(fpr, tpr, label=f'ROC Curve (AUC = {auc:.2f})')\n",
        "plt.plot([0, 1], [0, 1], linestyle='--', color='gray')\n",
        "plt.xlabel('False Positive Rate')\n",
        "plt.ylabel('True Positive Rate')\n",
        "plt.title('Receiver Operating Characteristic (ROC) Curve')\n",
        "plt.legend()\n",
        "plt.grid(True)\n",
        "plt.show()"
      ]
    },
    {
      "cell_type": "markdown",
      "id": "d7e907b1",
      "metadata": {
        "id": "d7e907b1"
      },
      "source": [
        "## Summary\n",
        "- Confusion matrix breaks down prediction types (TP, FP, FN, TN)\n",
        "- ROC curve shows model's ability to separate classes\n",
        "- AUC summarizes ROC as a single score (1.0 = perfect, 0.5 = random)"
      ]
    },
    {
      "cell_type": "markdown",
      "id": "b6fd1fa8",
      "metadata": {
        "id": "b6fd1fa8"
      },
      "source": [
        "##  What’s Next?\n",
        " In the final notebook of this module:\n",
        "**`06_model_comparison_dashboard.ipynb`** — we’ll compare multiple models with key metrics and plots."
      ]
    }
  ],
  "metadata": {
    "kernelspec": {
      "display_name": "Python 3",
      "name": "python3"
    },
    "colab": {
      "provenance": []
    }
  },
  "nbformat": 4,
  "nbformat_minor": 5
}