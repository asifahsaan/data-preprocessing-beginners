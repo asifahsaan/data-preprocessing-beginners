{
  "nbformat": 4,
  "nbformat_minor": 0,
  "metadata": {
    "colab": {
      "provenance": [],
      "authorship_tag": "ABX9TyOT6vQd+IMm+ksAMHytSqRD"
    },
    "kernelspec": {
      "name": "python3",
      "display_name": "Python 3"
    },
    "language_info": {
      "name": "python"
    }
  },
  "cells": [
    {
      "cell_type": "markdown",
      "source": [
        "# Notebook 05 — Binning Numerical Features\n",
        "📁 File name: 05_binning_numerical_features.ipynb\n",
        "\n",
        "This notebook introduces binning (a.k.a. discretization) — a powerful technique for transforming continuous numerical features into categorical buckets. It’s especially useful in tree-based models, rule-based systems, and improving interpretability.\n",
        "\n",
        "📒 Notebook Sections\n",
        "1. Title & Introduction\n",
        "2. What is Binning?\n",
        "3. Load & Inspect Numeric Columns\n",
        "4. Binning with KBinsDiscretizer\n",
        "5. Strategies: Uniform vs Quantile vs KMeans\n",
        "6. Visualize Before and After\n",
        "7. Summary & What’s Next"
      ],
      "metadata": {
        "id": "tK2yNf2Zry_6"
      }
    },
    {
      "cell_type": "markdown",
      "source": [
        "## 1. Title & Introduction (Markdown)\n",
        "### 05 — Binning Numerical Features\n",
        "\n",
        "In this notebook, we’ll learn how to **convert continuous numeric features into bins** (i.e., categories or ranges). This technique is often called:\n",
        "\n",
        "- Binning\n",
        "- Discretization\n",
        "- Bucketing\n",
        "\n",
        "We'll use `KBinsDiscretizer` from scikit-learn.\n",
        "\n",
        "## 2. What is Binning? (Markdown)\n",
        "### What Is Binning?\n",
        "\n",
        "Binning turns a numeric column (e.g., age) into **categories** like:\n",
        "\n",
        "- 0–18 → Teen\n",
        "- 18–35 → Young Adult\n",
        "- 35–60 → Adult\n",
        "- 60+ → Senior\n",
        "\n",
        "This can help when:\n",
        "\n",
        "- Data is skewed or has outliers\n",
        "- You want a model that’s easier to interpret\n",
        "- You're using models that handle categoricals well (trees, rules)\n"
      ],
      "metadata": {
        "id": "iMDlwLJkr7_Y"
      }
    },
    {
      "cell_type": "markdown",
      "source": [
        "## 3. Load & Inspect Numeric Columns"
      ],
      "metadata": {
        "id": "NB03D9xNsDdn"
      }
    },
    {
      "cell_type": "code",
      "execution_count": null,
      "metadata": {
        "id": "pG42W9uJrwfN"
      },
      "outputs": [],
      "source": [
        "import pandas as pd\n",
        "import matplotlib.pyplot as plt\n",
        "\n",
        "df = pd.read_csv(\"../data/sample_data.csv\")\n",
        "\n",
        "# Pick a numeric column for binning (e.g., 'Age')\n",
        "df[\"Age\"].hist(bins=20)\n",
        "plt.title(\"Original Age Distribution\")\n",
        "plt.xlabel(\"Age\")\n",
        "plt.ylabel(\"Frequency\")\n",
        "plt.show()"
      ]
    },
    {
      "cell_type": "markdown",
      "source": [
        "## 4. Binning with KBinsDiscretizer"
      ],
      "metadata": {
        "id": "Xny74R7cslu2"
      }
    },
    {
      "cell_type": "code",
      "source": [
        "from sklearn.preprocessing import KBinsDiscretizer\n",
        "\n",
        "# Bin 'Age' into 4 categories\n",
        "binner = KBinsDiscretizer(n_bins=4, encode=\"ordinal\", strategy=\"uniform\")\n",
        "df[\"Age_binned\"] = binner.fit_transform(df[[\"Age\"]])\n",
        "\n",
        "df[[\"Age\", \"Age_binned\"]].head()"
      ],
      "metadata": {
        "id": "6wfG0Z_KsNmx"
      },
      "execution_count": null,
      "outputs": []
    },
    {
      "cell_type": "markdown",
      "source": [
        "## 5. Try Different Binning Strategies"
      ],
      "metadata": {
        "id": "XkcnjIZEsiDx"
      }
    },
    {
      "cell_type": "code",
      "source": [
        "# Uniform: Equal-width bins\n",
        "uniform = KBinsDiscretizer(n_bins=4, encode=\"ordinal\", strategy=\"uniform\")\n",
        "quantile = KBinsDiscretizer(n_bins=4, encode=\"ordinal\", strategy=\"quantile\")\n",
        "kmeans = KBinsDiscretizer(n_bins=4, encode=\"ordinal\", strategy=\"kmeans\")\n",
        "\n",
        "df[\"Age_uniform\"] = uniform.fit_transform(df[[\"Age\"]])\n",
        "df[\"Age_quantile\"] = quantile.fit_transform(df[[\"Age\"]])\n",
        "df[\"Age_kmeans\"] = kmeans.fit_transform(df[[\"Age\"]])"
      ],
      "metadata": {
        "id": "T8_MKftjsNr7"
      },
      "execution_count": null,
      "outputs": []
    },
    {
      "cell_type": "markdown",
      "source": [
        "## 6. Visualize All Bin Results"
      ],
      "metadata": {
        "id": "0L7pnvI7sf7I"
      }
    },
    {
      "cell_type": "code",
      "source": [
        "fig, axes = plt.subplots(1, 3, figsize=(15, 4))\n",
        "\n",
        "axes[0].hist(df[\"Age_uniform\"], bins=4)\n",
        "axes[0].set_title(\"Uniform Bins\")\n",
        "\n",
        "axes[1].hist(df[\"Age_quantile\"], bins=4)\n",
        "axes[1].set_title(\"Quantile Bins\")\n",
        "\n",
        "axes[2].hist(df[\"Age_kmeans\"], bins=4)\n",
        "axes[2].set_title(\"KMeans Bins\")\n",
        "\n",
        "plt.tight_layout()\n",
        "plt.show()"
      ],
      "metadata": {
        "id": "E_VziMkGsNuM"
      },
      "execution_count": null,
      "outputs": []
    },
    {
      "cell_type": "markdown",
      "source": [
        "## 7. Summary & What’s Next (Markdown)\n",
        "###  Summary\n",
        "\n",
        "- Binning (discretization) converts numeric features into categories.\n",
        "- We used **KBinsDiscretizer** with:\n",
        "  - Uniform (equal width)\n",
        "  - Quantile (equal frequency)\n",
        "  - KMeans (based on clustering)\n",
        "- These techniques can help when dealing with outliers or preparing data for interpretable models.\n",
        "\n",
        "**Next Up**: `06_polynomial_features.ipynb`  \n",
        "We’ll explore how to create interaction terms and polynomial features to enrich our models.\n"
      ],
      "metadata": {
        "id": "M-UjvRQ_sUNY"
      }
    }
  ]
}