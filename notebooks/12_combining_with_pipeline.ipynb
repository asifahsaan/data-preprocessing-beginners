{
  "cells": [
    {
      "cell_type": "markdown",
      "metadata": {
        "id": "view-in-github",
        "colab_type": "text"
      },
      "source": [
        "<a href=\"https://colab.research.google.com/github/asifahsaan/data-preprocessing-beginners/blob/main/notebooks/12_combining_with_pipeline.ipynb\" target=\"_parent\"><img src=\"https://colab.research.google.com/assets/colab-badge.svg\" alt=\"Open In Colab\"/></a>"
      ]
    },
    {
      "cell_type": "markdown",
      "id": "89df7225",
      "metadata": {
        "id": "89df7225"
      },
      "source": [
        "# 12 — Combining Preprocessing with Pipelines\n",
        "In this final notebook, we’ll **combine all preprocessing steps into a reusable `Pipeline`** for efficient and modular workflows.\n",
        "\n",
        "We’ll use scikit-learn’s `Pipeline` and `ColumnTransformer` to process:\n",
        "- Missing values\n",
        "- Scaling (numeric features)\n",
        "- Encoding (categorical features)\n",
        "- Feature selection (optional)\n",
        "\n",
        "This is ideal for production-ready machine learning pipelines."
      ]
    },
    {
      "cell_type": "markdown",
      "id": "73b21956",
      "metadata": {
        "id": "73b21956"
      },
      "source": [
        "## 1. Sample Dataset with Mixed Data Types"
      ]
    },
    {
      "cell_type": "code",
      "execution_count": null,
      "id": "eee82f27",
      "metadata": {
        "id": "eee82f27"
      },
      "outputs": [],
      "source": [
        "import pandas as pd\n",
        "import numpy as np\n",
        "\n",
        "# Create small mixed-type dataset\n",
        "data = {\n",
        "    \"Age\": [25, 32, np.nan, 40, 29],\n",
        "    \"Income\": [50000, 60000, 55000, np.nan, 52000],\n",
        "    \"City\": [\"NY\", \"SF\", \"NY\", \"LA\", np.nan],\n",
        "    \"Purchased\": [\"Yes\", \"No\", \"Yes\", \"No\", \"Yes\"]\n",
        "}\n",
        "\n",
        "df = pd.DataFrame(data)\n",
        "df"
      ]
    },
    {
      "cell_type": "markdown",
      "id": "3b13aec0",
      "metadata": {
        "id": "3b13aec0"
      },
      "source": [
        "## 2. Define Preprocessing Steps"
      ]
    },
    {
      "cell_type": "code",
      "execution_count": null,
      "id": "bdf6726f",
      "metadata": {
        "id": "bdf6726f"
      },
      "outputs": [],
      "source": [
        "from sklearn.pipeline import Pipeline\n",
        "from sklearn.compose import ColumnTransformer\n",
        "from sklearn.impute import SimpleImputer\n",
        "from sklearn.preprocessing import StandardScaler, OneHotEncoder\n",
        "\n",
        "# Define column types\n",
        "num_features = [\"Age\", \"Income\"]\n",
        "cat_features = [\"City\"]\n",
        "\n",
        "# Numeric pipeline\n",
        "num_pipeline = Pipeline([\n",
        "    (\"imputer\", SimpleImputer(strategy=\"mean\")),\n",
        "    (\"scaler\", StandardScaler())\n",
        "])\n",
        "\n",
        "# Categorical pipeline\n",
        "cat_pipeline = Pipeline([\n",
        "    (\"imputer\", SimpleImputer(strategy=\"most_frequent\")),\n",
        "    (\"encoder\", OneHotEncoder(handle_unknown=\"ignore\"))\n",
        "])"
      ]
    },
    {
      "cell_type": "markdown",
      "id": "1e7c37a9",
      "metadata": {
        "id": "1e7c37a9"
      },
      "source": [
        "## 3. Build ColumnTransformer"
      ]
    },
    {
      "cell_type": "code",
      "execution_count": null,
      "id": "ec23f349",
      "metadata": {
        "id": "ec23f349"
      },
      "outputs": [],
      "source": [
        "preprocessor = ColumnTransformer([\n",
        "    (\"num\", num_pipeline, num_features),\n",
        "    (\"cat\", cat_pipeline, cat_features)\n",
        "])"
      ]
    },
    {
      "cell_type": "markdown",
      "id": "7ac76881",
      "metadata": {
        "id": "7ac76881"
      },
      "source": [
        "## 4. Create Full Pipeline with Classifier"
      ]
    },
    {
      "cell_type": "code",
      "execution_count": null,
      "id": "87af098f",
      "metadata": {
        "id": "87af098f"
      },
      "outputs": [],
      "source": [
        "from sklearn.linear_model import LogisticRegression\n",
        "\n",
        "full_pipeline = Pipeline([\n",
        "    (\"preprocessing\", preprocessor),\n",
        "    (\"classifier\", LogisticRegression())\n",
        "])"
      ]
    },
    {
      "cell_type": "markdown",
      "id": "3bb3102a",
      "metadata": {
        "id": "3bb3102a"
      },
      "source": [
        "## 5. Train Pipeline"
      ]
    },
    {
      "cell_type": "code",
      "execution_count": null,
      "id": "ec5b67b1",
      "metadata": {
        "id": "ec5b67b1"
      },
      "outputs": [],
      "source": [
        "X = df.drop(\"Purchased\", axis=1)\n",
        "y = df[\"Purchased\"]\n",
        "\n",
        "# Encode target for binary classification\n",
        "y_encoded = (y == \"Yes\").astype(int)\n",
        "\n",
        "full_pipeline.fit(X, y_encoded)\n",
        "print(\"Pipeline trained successfully.\")"
      ]
    },
    {
      "cell_type": "markdown",
      "id": "43f417a2",
      "metadata": {
        "id": "43f417a2"
      },
      "source": [
        "## 6. Make Predictions"
      ]
    },
    {
      "cell_type": "code",
      "execution_count": null,
      "id": "f2ea55d9",
      "metadata": {
        "id": "f2ea55d9"
      },
      "outputs": [],
      "source": [
        "new_data = pd.DataFrame({\n",
        "    \"Age\": [34],\n",
        "    \"Income\": [58000],\n",
        "    \"City\": [\"NY\"]\n",
        "})\n",
        "\n",
        "prediction = full_pipeline.predict(new_data)\n",
        "print(\"Prediction (1 = Yes, 0 = No):\", prediction[0])"
      ]
    },
    {
      "cell_type": "markdown",
      "id": "8dd4b760",
      "metadata": {
        "id": "8dd4b760"
      },
      "source": [
        "## Summary\n",
        "- Combined numeric and categorical preprocessing using `ColumnTransformer`\n",
        "- Integrated preprocessing and modeling in one `Pipeline`\n",
        "- Ready for deployment, cross-validation, and model tuning"
      ]
    },
    {
      "cell_type": "markdown",
      "id": "3a515552",
      "metadata": {
        "id": "3a515552"
      },
      "source": [
        "## Congratulations!\n",
        "You've now completed the **Beginner-Friendly Tabular Data Preprocessing** series. You're ready to:\n",
        "\n",
        "- Clean and preprocess real-world datasets\n",
        "- Build modular and production-ready ML pipelines\n",
        "- Apply feature selection and transformations efficiently\n",
        "\n",
        "Try building your own pipeline using a real dataset next!"
      ]
    }
  ],
  "metadata": {
    "kernelspec": {
      "display_name": "Python 3",
      "name": "python3"
    },
    "colab": {
      "provenance": [],
      "include_colab_link": true
    }
  },
  "nbformat": 4,
  "nbformat_minor": 5
}