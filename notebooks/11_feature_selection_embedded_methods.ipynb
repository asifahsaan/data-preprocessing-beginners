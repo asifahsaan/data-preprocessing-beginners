{
  "cells": [
    {
      "cell_type": "markdown",
      "id": "69c9a2f5",
      "metadata": {
        "id": "69c9a2f5"
      },
      "source": [
        "# 11 — Feature Selection: Embedded Methods\n",
        "In this notebook, we’ll explore **embedded methods** — techniques that perform feature selection **during model training** using built-in importance scores.\n",
        "\n",
        "We’ll cover:\n",
        "- What embedded methods are and how they differ\n",
        "- Feature selection using L1 regularization (Lasso)\n",
        "- Tree-based feature importances\n",
        "- Integration in pipelines"
      ]
    },
    {
      "cell_type": "markdown",
      "id": "642c7070",
      "metadata": {
        "id": "642c7070"
      },
      "source": [
        "## 📘 1. What Are Embedded Methods?\n",
        "**Embedded methods** select features as part of model training by penalizing or rewarding feature usage. These methods strike a balance between filters and wrappers.\n",
        "\n",
        "Examples include:\n",
        "- **Lasso (L1)**: Shrinks irrelevant coefficients to zero\n",
        "- **Tree-based models**: Provide natural feature importance scores\n",
        "\n",
        "They are faster than wrappers and often more informative than filters."
      ]
    },
    {
      "cell_type": "markdown",
      "id": "ebaed91b",
      "metadata": {
        "id": "ebaed91b"
      },
      "source": [
        "## 2. Load Dataset"
      ]
    },
    {
      "cell_type": "code",
      "execution_count": null,
      "id": "41590320",
      "metadata": {
        "id": "41590320"
      },
      "outputs": [],
      "source": [
        "from sklearn.datasets import load_breast_cancer\n",
        "import pandas as pd\n",
        "\n",
        "# Load toy classification dataset\n",
        "X_data = load_breast_cancer()\n",
        "X = pd.DataFrame(X_data.data, columns=X_data.feature_names)\n",
        "y = X_data.target"
      ]
    },
    {
      "cell_type": "markdown",
      "id": "55fa838a",
      "metadata": {
        "id": "55fa838a"
      },
      "source": [
        "## 3. Lasso (L1) for Feature Selection"
      ]
    },
    {
      "cell_type": "code",
      "execution_count": null,
      "id": "4b56e750",
      "metadata": {
        "id": "4b56e750"
      },
      "outputs": [],
      "source": [
        "from sklearn.linear_model import LogisticRegression\n",
        "import numpy as np\n",
        "\n",
        "# L1 regularization\n",
        "lasso = LogisticRegression(penalty=\"l1\", solver=\"liblinear\")\n",
        "lasso.fit(X, y)\n",
        "\n",
        "coeff = pd.Series(lasso.coef_[0], index=X.columns)\n",
        "selected = coeff[coeff != 0].index\n",
        "\n",
        "print(\"Selected features by Lasso:\")\n",
        "print(selected.tolist())"
      ]
    },
    {
      "cell_type": "markdown",
      "id": "01c670a2",
      "metadata": {
        "id": "01c670a2"
      },
      "source": [
        "## 4. Feature Importances from Random Forest"
      ]
    },
    {
      "cell_type": "code",
      "execution_count": null,
      "id": "3074eba3",
      "metadata": {
        "id": "3074eba3"
      },
      "outputs": [],
      "source": [
        "from sklearn.ensemble import RandomForestClassifier\n",
        "\n",
        "forest = RandomForestClassifier(random_state=42)\n",
        "forest.fit(X, y)\n",
        "\n",
        "importances = pd.Series(forest.feature_importances_, index=X.columns)\n",
        "importances = importances.sort_values(ascending=False)\n",
        "print(\"Top 5 features:\")\n",
        "print(importances.head())"
      ]
    },
    {
      "cell_type": "markdown",
      "id": "6435c9b8",
      "metadata": {
        "id": "6435c9b8"
      },
      "source": [
        "## 5. Visualize Feature Importances"
      ]
    },
    {
      "cell_type": "code",
      "execution_count": null,
      "id": "02e74f43",
      "metadata": {
        "id": "02e74f43"
      },
      "outputs": [],
      "source": [
        "import matplotlib.pyplot as plt\n",
        "\n",
        "plt.figure(figsize=(10, 6))\n",
        "importances.head(10).plot(kind=\"barh\")\n",
        "plt.title(\"Top 10 Important Features (Random Forest)\")\n",
        "plt.xlabel(\"Importance Score\")\n",
        "plt.gca().invert_yaxis()\n",
        "plt.grid(True)\n",
        "plt.show()"
      ]
    },
    {
      "cell_type": "markdown",
      "id": "4deb182d",
      "metadata": {
        "id": "4deb182d"
      },
      "source": [
        "## 6. Use Embedded Method in Pipeline"
      ]
    },
    {
      "cell_type": "code",
      "execution_count": null,
      "id": "277c0cba",
      "metadata": {
        "id": "277c0cba"
      },
      "outputs": [],
      "source": [
        "from sklearn.feature_selection import SelectFromModel\n",
        "from sklearn.pipeline import Pipeline\n",
        "\n",
        "pipeline = Pipeline([\n",
        "    (\"select\", SelectFromModel(RandomForestClassifier(n_estimators=100))),\n",
        "    (\"clf\", RandomForestClassifier())\n",
        "])\n",
        "\n",
        "pipeline.fit(X, y)\n",
        "print(\"Pipeline trained using embedded feature selection.\")"
      ]
    },
    {
      "cell_type": "markdown",
      "id": "52292d57",
      "metadata": {
        "id": "52292d57"
      },
      "source": [
        "## Summary\n",
        "- Embedded methods select features during model training\n",
        "- Lasso (L1) can zero-out less useful features\n",
        "- Tree-based models output natural importance scores\n",
        "- Easily integrate using `SelectFromModel` in pipelines"
      ]
    },
    {
      "cell_type": "markdown",
      "id": "d28abaf3",
      "metadata": {
        "id": "d28abaf3"
      },
      "source": [
        "## What’s Next?\n",
        "In the next notebook:\n",
        "**`12_combining_with_pipeline.ipynb`**\n",
        "We’ll combine all preprocessing steps into a single `Pipeline`, ready for deployment or cross-validation."
      ]
    }
  ],
  "metadata": {
    "kernelspec": {
      "display_name": "Python 3",
      "name": "python3"
    },
    "colab": {
      "provenance": []
    }
  },
  "nbformat": 4,
  "nbformat_minor": 5
}