{
  "nbformat": 4,
  "nbformat_minor": 0,
  "metadata": {
    "colab": {
      "provenance": [],
      "authorship_tag": "ABX9TyPO82rb9bQPuL504wrP4fJl"
    },
    "kernelspec": {
      "name": "python3",
      "display_name": "Python 3"
    },
    "language_info": {
      "name": "python"
    }
  },
  "cells": [
    {
      "cell_type": "markdown",
      "source": [
        "# 📘 Notebook 04 — Encoding Categorical Variables\n",
        "📁 File name: 04_encoding_categorical_variables.ipynb\n",
        "\n",
        "This notebook walks beginners through why we need to encode categorical variables, and how to do it using OneHotEncoder and OrdinalEncoder from scikit-learn. It also introduces basic handling of unknown categories and how to work with both encoders in a Pandas-friendly way.\n",
        "\n",
        "📒 Notebook Sections\n",
        "1. Title & Intro\n",
        "2. Why Encoding Is Needed\n",
        "3. Explore Categorical Columns\n",
        "4. OneHotEncoder\n",
        "5. OrdinalEncoder\n",
        "6. Dealing with Unknown Categories\n",
        "7. Summary & What’s Next"
      ],
      "metadata": {
        "id": "i7Tq50gDp2y6"
      }
    },
    {
      "cell_type": "markdown",
      "source": [
        "## 1. Title & Introduction (Markdown)\n",
        "### 🔠 04 — Encoding Categorical Variables\n",
        "\n",
        "In this notebook, you'll learn how to convert categorical (text-based) columns into numbers so that machine learning models can work with them.\n",
        "\n",
        "We’ll cover:\n",
        "\n",
        "- What encoding is and why it matters\n",
        "- One-hot encoding using `OneHotEncoder`\n",
        "- Ordinal encoding using `OrdinalEncoder`\n",
        "- How to handle unknown categories during inference\n",
        "\n",
        "## 2. Why Encoding Is Needed (Markdown)\n",
        "### 🤔 Why Do We Need to Encode Categories?\n",
        "\n",
        "Machine learning models work with numbers, not text. So when your dataset contains columns like `Gender`, `Country`, or `ProductType`, we need to convert them into a numerical format.\n",
        "\n",
        "Two common techniques:\n",
        "\n",
        "- **OneHot Encoding**: Creates binary columns for each category\n",
        "- **Ordinal Encoding**: Replaces categories with ordered integers (use only if order makes sense)\n",
        "\n"
      ],
      "metadata": {
        "id": "-3gFKWPUqJlw"
      }
    },
    {
      "cell_type": "markdown",
      "source": [
        "## 3. Explore Categorical Columns"
      ],
      "metadata": {
        "id": "rs8ukVWIqX75"
      }
    },
    {
      "cell_type": "code",
      "execution_count": null,
      "metadata": {
        "id": "6ok3YkFup16X"
      },
      "outputs": [],
      "source": [
        "import pandas as pd\n",
        "\n",
        "# Load data\n",
        "df = pd.read_csv(\"../data/sample_data.csv\")\n",
        "\n",
        "# Identify categorical columns\n",
        "cat_cols = df.select_dtypes(include=[\"object\", \"category\"]).columns.tolist()\n",
        "df[cat_cols].head()"
      ]
    },
    {
      "cell_type": "markdown",
      "source": [
        "## 4. OneHotEncoder"
      ],
      "metadata": {
        "id": "2hy2bcQqq2NP"
      }
    },
    {
      "cell_type": "code",
      "source": [
        "from sklearn.preprocessing import OneHotEncoder\n",
        "\n",
        "# Select one column to demonstrate\n",
        "sample_df = df[[\"Country\"]].copy()  # example column, adjust based on your dataset\n",
        "\n",
        "# OneHotEncoder expects 2D arrays\n",
        "encoder = OneHotEncoder(sparse=False, handle_unknown=\"ignore\")\n",
        "\n",
        "encoded = encoder.fit_transform(sample_df)\n",
        "\n",
        "# Convert to DataFrame\n",
        "encoded_df = pd.DataFrame(encoded, columns=encoder.get_feature_names_out([\"Country\"]))\n",
        "encoded_df.head()"
      ],
      "metadata": {
        "id": "vjtpm7UYqbN5"
      },
      "execution_count": null,
      "outputs": []
    },
    {
      "cell_type": "markdown",
      "source": [
        "## 5. OrdinalEncoder"
      ],
      "metadata": {
        "id": "BFuUBYoxqbG3"
      }
    },
    {
      "cell_type": "code",
      "source": [
        "from sklearn.preprocessing import OrdinalEncoder\n",
        "\n",
        "# Use another column\n",
        "sample_df2 = df[[\"Education_Level\"]]  # example, change to suit your dataset\n",
        "\n",
        "ordinal_encoder = OrdinalEncoder()\n",
        "encoded_ord = ordinal_encoder.fit_transform(sample_df2)\n",
        "\n",
        "df_encoded_ord = pd.DataFrame(encoded_ord, columns=[\"Education_Level_Ordinal\"])\n",
        "df_encoded_ord.head()"
      ],
      "metadata": {
        "id": "lREEjMSvqbdw"
      },
      "execution_count": null,
      "outputs": []
    },
    {
      "cell_type": "markdown",
      "source": [
        "📝 Note: sparse=False makes output readable in notebook. handle_unknown=\"ignore\" is helpful during inference when a new category appears."
      ],
      "metadata": {
        "id": "reWW5pvFqfNI"
      }
    },
    {
      "cell_type": "markdown",
      "source": [
        "## 6. Dealing with Unknown Categories (Advanced Option)"
      ],
      "metadata": {
        "id": "8e4j3UNxqbWI"
      }
    },
    {
      "cell_type": "code",
      "source": [
        "# During inference, OneHotEncoder may face unseen categories\n",
        "# `handle_unknown='ignore'` prevents the model from crashing\n",
        "\n",
        "# Simulate new/unseen data\n",
        "new_data = pd.DataFrame({\"Country\": [\"Atlantis\"]})\n",
        "encoder.transform(new_data)  # will return all 0s for \"Atlantis\""
      ],
      "metadata": {
        "id": "xXzyMpCCqbsA"
      },
      "execution_count": null,
      "outputs": []
    },
    {
      "cell_type": "markdown",
      "source": [
        "## 7. Summary / What’s Next (Markdown)\n",
        "### ✅ Summary\n",
        "\n",
        "- We explored two main encoding methods:\n",
        "  - **OneHotEncoder**: Great for unordered categories\n",
        "  - **OrdinalEncoder**: Use when category order matters\n",
        "- We also learned how to handle unknown categories safely\n",
        "\n",
        "➡️ **Next Up**: `05_binning_numerical_features.ipynb`  \n",
        "We'll learn how to group continuous variables into buckets using `KBinsDiscretizer`.\n"
      ],
      "metadata": {
        "id": "56--TJ6OqmDW"
      }
    }
  ]
}