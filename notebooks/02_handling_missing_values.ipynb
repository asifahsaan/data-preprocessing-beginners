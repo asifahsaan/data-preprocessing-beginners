{
  "nbformat": 4,
  "nbformat_minor": 0,
  "metadata": {
    "colab": {
      "provenance": [],
      "authorship_tag": "ABX9TyMp8Jx6Wp6C+wlOiSCJ0mg0",
      "include_colab_link": true
    },
    "kernelspec": {
      "name": "python3",
      "display_name": "Python 3"
    },
    "language_info": {
      "name": "python"
    }
  },
  "cells": [
    {
      "cell_type": "markdown",
      "metadata": {
        "id": "view-in-github",
        "colab_type": "text"
      },
      "source": [
        "<a href=\"https://colab.research.google.com/github/asifahsaan/data-preprocessing-beginners/blob/main/notebooks/02_handling_missing_values.ipynb\" target=\"_parent\"><img src=\"https://colab.research.google.com/assets/colab-badge.svg\" alt=\"Open In Colab\"/></a>"
      ]
    },
    {
      "cell_type": "markdown",
      "source": [
        "🧪 Notebook: 02_handling_missing_values.ipynb\n",
        "This notebook will help beginners understand what missing data is, why it matters, and how to handle it using different imputation strategies—one of the most important steps in any preprocessing pipeline.\n",
        "\n",
        "📌 Notebook Sections\n",
        "\n",
        "\n",
        "1.   Title & Introduction\n",
        "2.   Detect Missing Values\n",
        "3. Visualize Missingness (optional but helpful)\n",
        "4. Impute Missing Numerical Data\n",
        "5. Impute Missing Categorical Data\n",
        "6. Add Missing Indicator Columns (advanced, optional)\n",
        "7. Summary & What’s Next"
      ],
      "metadata": {
        "id": "tV2SmRmY4fMx"
      }
    },
    {
      "cell_type": "markdown",
      "source": [
        "### 1. Title & Introduction (Markdown Cell)\n",
        "### 🧼 02 — Handling Missing Values\n",
        "\n",
        "In this notebook, we'll learn:\n",
        "\n",
        "- How to detect missing values in a dataset\n",
        "- Different strategies to fill (impute) missing values\n",
        "- How to treat missing values in numeric and categorical features\n",
        "- When to add \"missing indicators\"\n",
        "\n",
        "👉 We'll use `SimpleImputer` from `scikit-learn` to demonstrate!\n"
      ],
      "metadata": {
        "id": "5BvxCvs_30LT"
      }
    },
    {
      "cell_type": "markdown",
      "source": [
        "### 2. Detect Missing Values"
      ],
      "metadata": {
        "id": "d4xim_hm4X86"
      }
    },
    {
      "cell_type": "code",
      "execution_count": null,
      "metadata": {
        "id": "0c3_G6cu3zEu"
      },
      "outputs": [],
      "source": [
        "import pandas as pd\n",
        "\n",
        "# Load the dataset\n",
        "df = pd.read_csv(\"../data/sample_data.csv\")\n",
        "\n",
        "# Check how many missing values per column\n",
        "df.isnull().sum()"
      ]
    },
    {
      "cell_type": "markdown",
      "source": [
        "### 3. Visualize Missingness (Optional but great for teaching)"
      ],
      "metadata": {
        "id": "pdnarZCE4Vz4"
      }
    },
    {
      "cell_type": "code",
      "source": [
        "import matplotlib.pyplot as plt\n",
        "\n",
        "df.isnull().sum().sort_values(ascending=False).plot.bar()\n",
        "plt.title(\"Missing Values per Column\")\n",
        "plt.ylabel(\"Count\")\n",
        "plt.show()"
      ],
      "metadata": {
        "id": "s1nJDada34si"
      },
      "execution_count": null,
      "outputs": []
    },
    {
      "cell_type": "markdown",
      "source": [
        "###  4. Impute Missing Values — Numerical Columns"
      ],
      "metadata": {
        "id": "pZeBZvkq4SCx"
      }
    },
    {
      "cell_type": "code",
      "source": [
        "from sklearn.impute import SimpleImputer\n",
        "\n",
        "# Identify numeric columns with missing values\n",
        "numeric_cols = df.select_dtypes(include=[\"float64\", \"int64\"]).columns\n",
        "numeric_with_na = [col for col in numeric_cols if df[col].isnull().sum() > 0]\n",
        "\n",
        "# Apply median imputation\n",
        "num_imputer = SimpleImputer(strategy=\"median\")\n",
        "df[numeric_with_na] = num_imputer.fit_transform(df[numeric_with_na])\n",
        "\n",
        "# Confirm missing values are gone\n",
        "df[numeric_with_na].isnull().sum()\n"
      ],
      "metadata": {
        "id": "CypIFNd_39dI"
      },
      "execution_count": null,
      "outputs": []
    },
    {
      "cell_type": "markdown",
      "source": [
        "### 5. Impute Missing Values — Categorical Columns"
      ],
      "metadata": {
        "id": "MKyG8nUV4Oom"
      }
    },
    {
      "cell_type": "code",
      "source": [
        "# Identify categorical columns with missing values\n",
        "categorical_cols = df.select_dtypes(include=[\"object\", \"category\"]).columns\n",
        "cat_with_na = [col for col in categorical_cols if df[col].isnull().sum() > 0]\n",
        "\n",
        "# Use a constant fill like \"Missing\"\n",
        "cat_imputer = SimpleImputer(strategy=\"constant\", fill_value=\"Missing\")\n",
        "df[cat_with_na] = cat_imputer.fit_transform(df[cat_with_na])\n",
        "\n",
        "# Confirm missing values are gone\n",
        "df[cat_with_na].isnull().sum()\n"
      ],
      "metadata": {
        "id": "PrYSpdpT3-44"
      },
      "execution_count": null,
      "outputs": []
    },
    {
      "cell_type": "markdown",
      "source": [
        "### 6. Add Missing Indicators (Optional)\n",
        "This is helpful if the fact that a value is missing carries predictive value (e.g., no income reported might mean lower loan approval chance)."
      ],
      "metadata": {
        "id": "O28qulSP4IQa"
      }
    },
    {
      "cell_type": "code",
      "source": [
        "# Add missing indicators before imputing\n",
        "for col in numeric_with_na:\n",
        "    df[col + \"_was_missing\"] = df[col].isnull().astype(int)\n"
      ],
      "metadata": {
        "id": "DSM7E0qx4DlY"
      },
      "execution_count": null,
      "outputs": []
    },
    {
      "cell_type": "markdown",
      "source": [
        "## ✅ Summary\n",
        "\n",
        "In this notebook, we:\n",
        "\n",
        "- Identified missing values in both numeric and categorical columns\n",
        "- Used `SimpleImputer` to fill missing values with median (numeric) and constant (categorical)\n",
        "- Learned that handling missing data is essential for building reliable ML models\n",
        "\n",
        "➡️ **Next Up**: Scaling and Normalizing numeric features  \n",
        "Check out `03_scaling_features.ipynb` to learn about `StandardScaler`, `MinMaxScaler`, and more!\n"
      ],
      "metadata": {
        "id": "BKjopPia4Fu7"
      }
    }
  ]
}