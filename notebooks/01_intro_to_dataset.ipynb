{
  "nbformat": 4,
  "nbformat_minor": 0,
  "metadata": {
    "colab": {
      "provenance": [],
      "authorship_tag": "ABX9TyM2ZSWA2+7emktypGRgtwMx",
      "include_colab_link": true
    },
    "kernelspec": {
      "name": "python3",
      "display_name": "Python 3"
    },
    "language_info": {
      "name": "python"
    }
  },
  "cells": [
    {
      "cell_type": "markdown",
      "metadata": {
        "id": "view-in-github",
        "colab_type": "text"
      },
      "source": [
        "<a href=\"https://colab.research.google.com/github/asifahsaan/data-preprocessing-beginners/blob/main/notebooks/01_intro_to_dataset.ipynb\" target=\"_parent\"><img src=\"https://colab.research.google.com/assets/colab-badge.svg\" alt=\"Open In Colab\"/></a>"
      ]
    },
    {
      "cell_type": "markdown",
      "source": [
        "# 🧾 01 — Introduction to the Dataset\n",
        "\n",
        "Welcome! In this notebook, we'll get familiar with the dataset we'll be using throughout this preprocessing series.\n",
        "\n",
        "By the end of this notebook, you'll know:\n",
        "\n",
        "- What the dataset looks like\n",
        "- Which columns are numeric vs. categorical\n",
        "- Where missing values exist\n",
        "- Basic statistics and distributions\n"
      ],
      "metadata": {
        "id": "o46yPHCa1pQK"
      }
    },
    {
      "cell_type": "code",
      "execution_count": null,
      "metadata": {
        "id": "DRxguoAD1dJg"
      },
      "outputs": [],
      "source": [
        "import pandas as pd\n",
        "\n",
        "# Load the dataset\n",
        "df = pd.read_csv(\"../data/sample_data.csv\")\n",
        "\n",
        "# Preview the first few rows\n",
        "df.head()"
      ]
    },
    {
      "cell_type": "code",
      "source": [
        "# Dataset shape (rows, columns)\n",
        "df.shape"
      ],
      "metadata": {
        "id": "Eim0xCTZ1yL5"
      },
      "execution_count": null,
      "outputs": []
    },
    {
      "cell_type": "code",
      "source": [
        "# Column names and types\n",
        "df.info()\n"
      ],
      "metadata": {
        "id": "mUWbvmJu1zLw"
      },
      "execution_count": null,
      "outputs": []
    },
    {
      "cell_type": "code",
      "source": [
        "# Basic statistics for numeric columns\n",
        "df.describe()"
      ],
      "metadata": {
        "id": "pgmR3tPg109w"
      },
      "execution_count": null,
      "outputs": []
    },
    {
      "cell_type": "code",
      "source": [
        "# Summary of all columns (categorical + numeric)\n",
        "df.describe(include=\"all\")"
      ],
      "metadata": {
        "id": "rVd2CiSr123g"
      },
      "execution_count": null,
      "outputs": []
    },
    {
      "cell_type": "code",
      "source": [
        "# Separate column names by data type\n",
        "numeric_cols = df.select_dtypes(include=[\"int64\", \"float64\"]).columns.tolist()\n",
        "categorical_cols = df.select_dtypes(include=[\"object\", \"category\"]).columns.tolist()\n",
        "\n",
        "print(\"Numeric Columns:\", numeric_cols)\n",
        "print(\"Categorical Columns:\", categorical_cols)"
      ],
      "metadata": {
        "id": "iFbGboyA15ig"
      },
      "execution_count": null,
      "outputs": []
    },
    {
      "cell_type": "code",
      "source": [
        "# Count missing values per column\n",
        "df.isnull().sum()"
      ],
      "metadata": {
        "id": "Fn7M--Ic16ng"
      },
      "execution_count": null,
      "outputs": []
    },
    {
      "cell_type": "code",
      "source": [
        "# Percentage of missing values\n",
        "(df.isnull().sum() / len(df) * 100).round(2)"
      ],
      "metadata": {
        "id": "Wo70k9G5182A"
      },
      "execution_count": null,
      "outputs": []
    },
    {
      "cell_type": "code",
      "source": [
        "import matplotlib.pyplot as plt\n",
        "\n",
        "# Bar chart: missing values\n",
        "df.isnull().sum().sort_values(ascending=False).plot.bar()\n",
        "plt.title(\"Missing Values per Column\")\n",
        "plt.ylabel(\"Count\")\n",
        "plt.show()"
      ],
      "metadata": {
        "id": "a2TqCB0g19wx"
      },
      "execution_count": null,
      "outputs": []
    },
    {
      "cell_type": "markdown",
      "source": [
        "## ✅ Summary\n",
        "\n",
        "Here's what we learned:\n",
        "\n",
        "- The dataset contains **X rows** and **Y columns**\n",
        "- There are **Z numeric features** and **W categorical features**\n",
        "- Several columns contain missing values that need handling\n",
        "\n",
        "In the **next notebook**, we'll explore how to **handle missing values** using techniques like median imputation and placeholder tokens.\n",
        "\n",
        "➡️ **Next Up**: `02_handling_missing_values.ipynb`"
      ],
      "metadata": {
        "id": "x1ReHbUK1tvy"
      }
    }
  ]
}