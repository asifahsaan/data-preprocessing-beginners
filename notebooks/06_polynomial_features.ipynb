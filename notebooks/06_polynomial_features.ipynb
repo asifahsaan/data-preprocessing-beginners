{
  "nbformat": 4,
  "nbformat_minor": 0,
  "metadata": {
    "colab": {
      "provenance": [],
      "authorship_tag": "ABX9TyMC7hw0MA9E8Y3DC7muJfUS"
    },
    "kernelspec": {
      "name": "python3",
      "display_name": "Python 3"
    },
    "language_info": {
      "name": "python"
    }
  },
  "cells": [
    {
      "cell_type": "markdown",
      "source": [
        "# Notebook 06 — Polynomial Features & Feature Interactions\n",
        "📁 File name: 06_polynomial_features.ipynb\n",
        "\n",
        "This notebook teaches how to expand your feature set by adding polynomial terms and interactions using PolynomialFeatures from scikit-learn — a powerful technique for capturing non-linear relationships.\n",
        "\n",
        "📒 Notebook Sections\n",
        "1. Title & Intro\n",
        "2. What Are Polynomial Features?\n",
        "3. Select Numeric Columns\n",
        "4. Generate Polynomial Features\n",
        "5. Degree Comparison (1 vs 2 vs 3)\n",
        "6. Risks: Overfitting & Dimensionality\n",
        "7. Summary & What’s Next"
      ],
      "metadata": {
        "id": "xUyhRNkKtCa6"
      }
    },
    {
      "cell_type": "markdown",
      "source": [
        "## 1. Title & Introduction (Markdown)\n",
        "### 06 — Polynomial Features & Interactions\n",
        "\n",
        "In this notebook, we’ll explore how to expand our feature space using **polynomial combinations** of numeric features.\n",
        "\n",
        "We’ll use scikit-learn’s `PolynomialFeatures` to:\n",
        "\n",
        "- Generate higher-order (nonlinear) terms  \n",
        "- Create interaction terms between features  \n",
        "- Understand when and how to use them\n",
        "\n",
        "## 2. What Are Polynomial Features? (Markdown)\n",
        "### What Are Polynomial Features?\n",
        "\n",
        "Polynomial features transform your existing numeric columns into new ones that capture:\n",
        "\n",
        "- Powers (e.g. \\( x^2, x^3 \\))\n",
        "- Interactions (e.g. \\( x_1 \\cdot x_2 \\))\n",
        "\n",
        "Example:\n",
        "\n",
        "Given `x1` and `x2`, degree=2 produces:\n",
        "\n",
        "- `x1`\n",
        "- `x2`\n",
        "- `x1^2`\n",
        "- `x2^2`\n",
        "- `x1 * x2`\n",
        "\n"
      ],
      "metadata": {
        "id": "z2RG_-AbtLMg"
      }
    },
    {
      "cell_type": "markdown",
      "source": [
        "## 3. Select Numeric Columns"
      ],
      "metadata": {
        "id": "0z9m3t2Ut5f4"
      }
    },
    {
      "cell_type": "code",
      "execution_count": null,
      "metadata": {
        "id": "1-eLk_n8tAuv"
      },
      "outputs": [],
      "source": [
        "import pandas as pd\n",
        "\n",
        "# Load dataset\n",
        "df = pd.read_csv(\"../data/sample_data.csv\")\n",
        "\n",
        "# Select 2–3 numeric columns for simplicity\n",
        "numeric_cols = [\"Age\", \"Income\"]  # Replace with relevant columns from your dataset\n",
        "df[numeric_cols].head()"
      ]
    },
    {
      "cell_type": "markdown",
      "source": [
        "## 4. Generate Polynomial Features (Degree 2)"
      ],
      "metadata": {
        "id": "26PJ0qGWt-gY"
      }
    },
    {
      "cell_type": "code",
      "source": [
        "from sklearn.preprocessing import PolynomialFeatures\n",
        "\n",
        "poly = PolynomialFeatures(degree=2, include_bias=False)\n",
        "poly_features = poly.fit_transform(df[numeric_cols])\n",
        "\n",
        "# Column names for expanded features\n",
        "feature_names = poly.get_feature_names_out(numeric_cols)\n",
        "\n",
        "df_poly = pd.DataFrame(poly_features, columns=feature_names)\n",
        "df_poly.head()"
      ],
      "metadata": {
        "id": "oIkXyr0ptbBY"
      },
      "execution_count": null,
      "outputs": []
    },
    {
      "cell_type": "markdown",
      "source": [
        "## 5. Compare Different Degrees"
      ],
      "metadata": {
        "id": "uUv7RkE_uBco"
      }
    },
    {
      "cell_type": "code",
      "source": [
        "for deg in [1, 2, 3]:\n",
        "    poly = PolynomialFeatures(degree=deg, include_bias=False)\n",
        "    transformed = poly.fit_transform(df[numeric_cols])\n",
        "    print(f\"Degree {deg} → Output shape: {transformed.shape}\")"
      ],
      "metadata": {
        "id": "E88wYaq4tcxo"
      },
      "execution_count": null,
      "outputs": []
    },
    {
      "cell_type": "markdown",
      "source": [
        " As degree increases, the number of features grows **exponentially**!\n",
        "\n",
        "- Degree 1: Only original features  \n",
        "- Degree 2: Adds squares + interactions  \n",
        "- Degree 3: Adds cubes + 2-way + 3-way interactions\n",
        "\n",
        "Be careful — this can lead to **overfitting** or slow training.\n"
      ],
      "metadata": {
        "id": "mW4PGmWYte5X"
      }
    },
    {
      "cell_type": "markdown",
      "source": [
        "## 6. When to Use Polynomial Features (Markdown)\n",
        "### When to Use Polynomial Features\n",
        "\n",
        "✅ Useful when:\n",
        "\n",
        "- You suspect non-linear relationships\n",
        "- You use linear models (e.g., Linear/Logistic Regression)\n",
        "- You want to enrich the feature space\n",
        "\n",
        "⚠️ Avoid when:\n",
        "\n",
        "- You already use non-linear models (trees, XGBoost)\n",
        "- Your data is small (risk of overfitting)\n",
        "- You have too many input columns (curse of dimensionality)\n",
        "\n",
        "\n",
        "## 7. Summary / What’s Next (Markdown)\n",
        "### Summary\n",
        "\n",
        "- Polynomial features expand numeric features with non-linear combinations\n",
        "- `PolynomialFeatures(degree=2)` creates squares and interactions\n",
        "- Be cautious with high degrees due to feature explosion\n",
        "\n",
        "**Next Up**: `07_custom_transformations.ipynb`  \n",
        "We’ll learn how to define your **own transformations** using `FunctionTransformer` or custom Python classes!\n"
      ],
      "metadata": {
        "id": "Dmt9CkLKtsI_"
      }
    }
  ]
}