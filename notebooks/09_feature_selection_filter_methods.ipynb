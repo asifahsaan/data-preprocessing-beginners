{
  "cells": [
    {
      "cell_type": "markdown",
      "metadata": {
        "id": "view-in-github",
        "colab_type": "text"
      },
      "source": [
        "<a href=\"https://colab.research.google.com/github/asifahsaan/data-preprocessing-beginners/blob/main/notebooks/09_feature_selection_filter_methods.ipynb\" target=\"_parent\"><img src=\"https://colab.research.google.com/assets/colab-badge.svg\" alt=\"Open In Colab\"/></a>"
      ]
    },
    {
      "cell_type": "markdown",
      "id": "da96bbe5",
      "metadata": {
        "id": "da96bbe5"
      },
      "source": [
        "# 📘 09 — Feature Selection: Filter Methods\n",
        "In this notebook, we’ll learn how to filter out irrelevant or redundant features using statistical methods **before model training**.\n",
        "\n",
        "We'll cover:\n",
        "- What filter methods are and when to use them\n",
        "- Using `SelectKBest` with `chi2`, `f_classif`, and `mutual_info_classif`\n",
        "- Integrating filter selection in a `Pipeline`"
      ]
    },
    {
      "cell_type": "markdown",
      "id": "f506a90f",
      "metadata": {
        "id": "f506a90f"
      },
      "source": [
        "## 1. What Are Filter Methods?\n",
        "\n",
        "**Filter methods** score each feature independently of any model, based on a statistical test:\n",
        "\n",
        "| Method                | Use case                                                | Works with               |\n",
        "|-----------------------|-----------------------------------------------------------|--------------------------|\n",
        "| `chi2`                | Tests independence between categorical target & feature | Positive integers only   |\n",
        "| `f_classif`           | ANOVA F-value for classification tasks                  | Numerical features       |\n",
        "| `mutual_info_classif`| Captures nonlinear relationships                        | Categorical + continuous |\n",
        "\n",
        "These are simple, fast, and useful for an **initial feature screening**."
      ]
    },
    {
      "cell_type": "markdown",
      "id": "c34cee95",
      "metadata": {
        "id": "c34cee95"
      },
      "source": [
        "## 2. Load Sample Dataset"
      ]
    },
    {
      "cell_type": "code",
      "execution_count": null,
      "id": "2c131bcd",
      "metadata": {
        "id": "2c131bcd"
      },
      "outputs": [],
      "source": [
        "import pandas as pd\n",
        "from sklearn.datasets import load_breast_cancer\n",
        "\n",
        "# Load toy classification dataset\n",
        "data = load_breast_cancer()\n",
        "X = pd.DataFrame(data.data, columns=data.feature_names)\n",
        "y = data.target\n",
        "\n",
        "X.head()"
      ]
    },
    {
      "cell_type": "markdown",
      "id": "e0479326",
      "metadata": {
        "id": "e0479326"
      },
      "source": [
        "## 3. SelectKBest with `chi2` (Categorical Targets + Positive Features)"
      ]
    },
    {
      "cell_type": "code",
      "execution_count": null,
      "id": "8d8708d4",
      "metadata": {
        "id": "8d8708d4"
      },
      "outputs": [],
      "source": [
        "from sklearn.feature_selection import SelectKBest, chi2\n",
        "from sklearn.preprocessing import MinMaxScaler\n",
        "\n",
        "# chi2 needs non-negative features → scale to 0-1\n",
        "scaler = MinMaxScaler()\n",
        "X_scaled = scaler.fit_transform(X)\n",
        "\n",
        "# Apply SelectKBest with chi2\n",
        "selector = SelectKBest(score_func=chi2, k=5)\n",
        "X_kbest = selector.fit_transform(X_scaled, y)\n",
        "\n",
        "# Show selected feature names\n",
        "selected_cols = X.columns[selector.get_support()]\n",
        "print(\"Top features selected by chi2:\\n\", selected_cols.tolist())"
      ]
    },
    {
      "cell_type": "markdown",
      "id": "79d5488c",
      "metadata": {
        "id": "79d5488c"
      },
      "source": [
        "## 4. SelectKBest with `f_classif` (ANOVA F-test)"
      ]
    },
    {
      "cell_type": "code",
      "execution_count": null,
      "id": "840ec7fb",
      "metadata": {
        "id": "840ec7fb"
      },
      "outputs": [],
      "source": [
        "from sklearn.feature_selection import f_classif\n",
        "\n",
        "selector = SelectKBest(score_func=f_classif, k=5)\n",
        "X_kbest_f = selector.fit_transform(X, y)\n",
        "\n",
        "selected_cols_f = X.columns[selector.get_support()]\n",
        "print(\"Top features selected by f_classif:\\n\", selected_cols_f.tolist())"
      ]
    },
    {
      "cell_type": "markdown",
      "id": "839e8dfe",
      "metadata": {
        "id": "839e8dfe"
      },
      "source": [
        "## 5. SelectKBest with `mutual_info_classif`"
      ]
    },
    {
      "cell_type": "code",
      "execution_count": null,
      "id": "1c49ce82",
      "metadata": {
        "id": "1c49ce82"
      },
      "outputs": [],
      "source": [
        "from sklearn.feature_selection import mutual_info_classif\n",
        "\n",
        "selector = SelectKBest(score_func=mutual_info_classif, k=5)\n",
        "X_kbest_mi = selector.fit_transform(X, y)\n",
        "\n",
        "selected_cols_mi = X.columns[selector.get_support()]\n",
        "print(\"Top features selected by mutual_info_classif:\\n\", selected_cols_mi.tolist())"
      ]
    },
    {
      "cell_type": "markdown",
      "id": "288b43bc",
      "metadata": {
        "id": "288b43bc"
      },
      "source": [
        "##  6. Use in Pipeline (Optional but Valuable)"
      ]
    },
    {
      "cell_type": "code",
      "execution_count": null,
      "id": "c3fc47a5",
      "metadata": {
        "id": "c3fc47a5"
      },
      "outputs": [],
      "source": [
        "from sklearn.pipeline import Pipeline\n",
        "from sklearn.linear_model import LogisticRegression\n",
        "\n",
        "pipeline = Pipeline([\n",
        "    (\"scaler\", MinMaxScaler()),\n",
        "    (\"select\", SelectKBest(score_func=chi2, k=5)),\n",
        "    (\"model\", LogisticRegression())\n",
        "])\n",
        "\n",
        "pipeline.fit(X, y)\n",
        "print(\"Pipeline trained successfully with selected features.\")"
      ]
    },
    {
      "cell_type": "markdown",
      "id": "c090edc7",
      "metadata": {
        "id": "c090edc7"
      },
      "source": [
        "## Summary\n",
        "In this notebook, we:\n",
        "\n",
        "* Explored filter-based feature selection: `chi2`, `f_classif`, `mutual_info_classif`\n",
        "* Selected top-k features statistically before training\n",
        "* Integrated selection with pipelines for production-ready preprocessing"
      ]
    },
    {
      "cell_type": "markdown",
      "id": "7defe528",
      "metadata": {
        "id": "7defe528"
      },
      "source": [
        "## ⏭ What’s Next?\n",
        " In the next notebook:\n",
        " `10_feature_selection_wrapper_methods.ipynb`\n",
        "We’ll dive into **wrapper-based feature selection** like **Recursive Feature Elimination (RFE)**, where a model guides which features to keep."
      ]
    }
  ],
  "metadata": {
    "kernelspec": {
      "display_name": "Python 3",
      "name": "python3"
    },
    "colab": {
      "provenance": [],
      "include_colab_link": true
    }
  },
  "nbformat": 4,
  "nbformat_minor": 5
}