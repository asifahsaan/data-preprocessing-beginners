{
 "cells": [
  {
   "cell_type": "markdown",
   "id": "7efc3b4f",
   "metadata": {},
   "source": [
    "# ☁️ 04 — Deploy Flask API to the Cloud (Render)\n",
    "\n",
    "In this notebook, we'll learn how to deploy our Flask API to the cloud using [Render](https://render.com) — a free and beginner-friendly cloud platform.\n"
   ]
  },
  {
   "cell_type": "markdown",
   "id": "0a86c6bb",
   "metadata": {},
   "source": [
    "## 🌐 Why Render?\n",
    "\n",
    "- Free plan available\n",
    "- Easy GitHub integration\n",
    "- Deploys automatically when code changes\n",
    "- SSL, custom domains, autoscaling supported\n"
   ]
  },
  {
   "cell_type": "markdown",
   "id": "217e2314",
   "metadata": {},
   "source": [
    "## 🚀 Step-by-Step Deployment\n",
    "\n",
    "### 1. Create `render.yaml` (deployment config)\n"
   ]
  },
  {
   "cell_type": "code",
   "execution_count": null,
   "id": "19a9686f",
   "metadata": {},
   "outputs": [],
   "source": [
    "# render.yaml\n",
    "services:\n",
    "  - type: web\n",
    "    name: flask-ml-api\n",
    "    env: python\n",
    "    plan: free\n",
    "    buildCommand: \"pip install -r requirements.txt\"\n",
    "    startCommand: \"python app.py\"\n",
    "    envVars:\n",
    "      - key: PORT\n",
    "        value: 10000\n"
   ]
  },
  {
   "cell_type": "markdown",
   "id": "cdd2dff9",
   "metadata": {},
   "source": [
    "### 2. Push Code to GitHub\n",
    "\n",
    "Your repo should include:\n",
    "- `app.py`\n",
    "- `rf_pipeline.joblib`\n",
    "- `requirements.txt`\n",
    "- `render.yaml`\n",
    "\n",
    "Then, push to GitHub.\n"
   ]
  },
  {
   "cell_type": "markdown",
   "id": "3adfb231",
   "metadata": {},
   "source": [
    "### 3. Connect GitHub to Render\n",
    "\n",
    "1. Go to [https://dashboard.render.com](https://dashboard.render.com)\n",
    "2. Click **New Web Service**\n",
    "3. Select your GitHub repo\n",
    "4. Confirm the build & start commands\n",
    "\n",
    "> Render will detect `render.yaml` and deploy automatically!\n"
   ]
  },
  {
   "cell_type": "markdown",
   "id": "18e4ee3d",
   "metadata": {},
   "source": [
    "### ✅ 4. Test Your Endpoint\n",
    "\n",
    "Once deployed, Render will give you a public URL like:\n",
    "\n",
    "```\n",
    "https://flask-ml-api.onrender.com/predict\n",
    "```\n",
    "\n",
    "Use `curl`, Postman, or a browser to send test requests!\n"
   ]
  },
  {
   "cell_type": "markdown",
   "id": "88678a61",
   "metadata": {},
   "source": [
    "## ✅ Summary\n",
    "\n",
    "- We prepared `render.yaml` for deployment\n",
    "- Pushed code to GitHub\n",
    "- Connected GitHub to Render\n",
    "- Automatically deployed a working Flask ML API\n",
    "\n",
    "➡️ Next: We’ll explore adding **input validation and testing** for production readiness.\n"
   ]
  }
 ],
 "metadata": {},
 "nbformat": 4,
 "nbformat_minor": 5
}
