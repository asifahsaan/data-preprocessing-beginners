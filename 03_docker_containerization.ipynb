{
 "cells": [
  {
   "cell_type": "markdown",
   "id": "d213e32d",
   "metadata": {},
   "source": [
    "# 🐳 03 — Containerizing with Docker\n",
    "\n",
    "In this notebook, we'll package our Flask API into a Docker container so it can run anywhere — on your machine, on a server, or in the cloud.\n"
   ]
  },
  {
   "cell_type": "markdown",
   "id": "b5050fc4",
   "metadata": {},
   "source": [
    "## 📦 What is Docker?\n",
    "\n",
    "Docker lets us create **lightweight, portable containers** to run our applications with all dependencies included.\n",
    "\n",
    "This means:\n",
    "- You don't need to install packages manually\n",
    "- The app will run the same on any system\n",
    "- Perfect for deployment\n"
   ]
  },
  {
   "cell_type": "markdown",
   "id": "2ac0ddf7",
   "metadata": {},
   "source": [
    "## 📁 1. Project Structure\n",
    "\n",
    "Your folder should look like this:\n",
    "\n",
    "```\n",
    "project/\n",
    "│\n",
    "├── app.py                 # Flask API code\n",
    "├── rf_pipeline.joblib     # Saved model\n",
    "├── Dockerfile             # Docker instructions\n",
    "└── requirements.txt       # Python dependencies\n",
    "```\n"
   ]
  },
  {
   "cell_type": "markdown",
   "id": "b25e7f58",
   "metadata": {},
   "source": [
    "## 📝 2. Dockerfile"
   ]
  },
  {
   "cell_type": "code",
   "execution_count": null,
   "id": "21a89b7d",
   "metadata": {},
   "outputs": [],
   "source": [
    "# Dockerfile\n",
    "FROM python:3.9\n",
    "\n",
    "WORKDIR /app\n",
    "\n",
    "COPY . /app\n",
    "\n",
    "RUN pip install -r requirements.txt\n",
    "\n",
    "EXPOSE 5000\n",
    "\n",
    "CMD [\"python\", \"app.py\"]"
   ]
  },
  {
   "cell_type": "markdown",
   "id": "e20f4d51",
   "metadata": {},
   "source": [
    "## 📦 3. requirements.txt"
   ]
  },
  {
   "cell_type": "code",
   "execution_count": null,
   "id": "3cb315dc",
   "metadata": {},
   "outputs": [],
   "source": [
    "flask\n",
    "joblib\n",
    "numpy\n",
    "scikit-learn"
   ]
  },
  {
   "cell_type": "markdown",
   "id": "b44599db",
   "metadata": {},
   "source": [
    "## 🏗️ 4. Build the Docker Image"
   ]
  },
  {
   "cell_type": "code",
   "execution_count": null,
   "id": "439f7d51",
   "metadata": {},
   "outputs": [],
   "source": [
    "# Run this from terminal in the project folder\n",
    "# docker build -t flask-ml-api .\n"
   ]
  },
  {
   "cell_type": "markdown",
   "id": "af21b1ba",
   "metadata": {},
   "source": [
    "## 🚀 5. Run the Container"
   ]
  },
  {
   "cell_type": "code",
   "execution_count": null,
   "id": "97693308",
   "metadata": {},
   "outputs": [],
   "source": [
    "# Run the API on port 5000\n",
    "# docker run -p 5000:5000 flask-ml-api\n"
   ]
  },
  {
   "cell_type": "markdown",
   "id": "aac5cd3b",
   "metadata": {},
   "source": [
    "## ✅ Summary\n",
    "\n",
    "- We wrote a Dockerfile to containerize our Flask app\n",
    "- We used `docker build` and `docker run` to test it\n",
    "- Now the API can run consistently across platforms\n",
    "\n",
    "➡️ Next: We'll look at **automating testing and deployment** using CI/CD tools.\n"
   ]
  }
 ],
 "metadata": {},
 "nbformat": 4,
 "nbformat_minor": 5
}
