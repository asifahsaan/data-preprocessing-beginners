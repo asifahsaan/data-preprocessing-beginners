{
  "cells": [
    {
      "cell_type": "markdown",
      "metadata": {
        "id": "view-in-github",
        "colab_type": "text"
      },
      "source": [
        "<a href=\"https://colab.research.google.com/github/asifahsaan/data-preprocessing-beginners/blob/main/06_model_comparison_dashboard.ipynb\" target=\"_parent\"><img src=\"https://colab.research.google.com/assets/colab-badge.svg\" alt=\"Open In Colab\"/></a>"
      ]
    },
    {
      "cell_type": "markdown",
      "id": "0e888885",
      "metadata": {
        "id": "0e888885"
      },
      "source": [
        "# 06 — Model Comparison Dashboard\n",
        "In this final notebook of the module, we'll compare multiple classification models side-by-side using:\n",
        "- Accuracy, Precision, Recall, F1\n",
        "- Visual summaries of model performance\n",
        "- Tabular dashboard for decision-making"
      ]
    },
    {
      "cell_type": "markdown",
      "id": "3af11989",
      "metadata": {
        "id": "3af11989"
      },
      "source": [
        "## 1. Load Dataset"
      ]
    },
    {
      "cell_type": "code",
      "execution_count": null,
      "id": "cd13c180",
      "metadata": {
        "id": "cd13c180"
      },
      "outputs": [],
      "source": [
        "from sklearn.datasets import load_breast_cancer\n",
        "import pandas as pd\n",
        "\n",
        "# Load dataset\n",
        "data = load_breast_cancer()\n",
        "X = pd.DataFrame(data.data, columns=data.feature_names)\n",
        "y = data.target"
      ]
    },
    {
      "cell_type": "markdown",
      "id": "cab5fdfd",
      "metadata": {
        "id": "cab5fdfd"
      },
      "source": [
        "## 2. Train Multiple Models"
      ]
    },
    {
      "cell_type": "code",
      "execution_count": null,
      "id": "bac25776",
      "metadata": {
        "id": "bac25776"
      },
      "outputs": [],
      "source": [
        "from sklearn.model_selection import train_test_split\n",
        "from sklearn.linear_model import LogisticRegression\n",
        "from sklearn.ensemble import RandomForestClassifier\n",
        "from sklearn.svm import SVC\n",
        "\n",
        "# Split data\n",
        "X_train, X_test, y_train, y_test = train_test_split(X, y, test_size=0.2, random_state=42)\n",
        "\n",
        "models = {\n",
        "    \"Logistic Regression\": LogisticRegression(max_iter=500),\n",
        "    \"Random Forest\": RandomForestClassifier(),\n",
        "    \"SVM\": SVC(probability=True)\n",
        "}\n",
        "\n",
        "trained_models = {}\n",
        "for name, model in models.items():\n",
        "    model.fit(X_train, y_train)\n",
        "    trained_models[name] = model"
      ]
    },
    {
      "cell_type": "markdown",
      "id": "3fc98d93",
      "metadata": {
        "id": "3fc98d93"
      },
      "source": [
        "## 3. Evaluate All Models"
      ]
    },
    {
      "cell_type": "code",
      "execution_count": null,
      "id": "f0c75640",
      "metadata": {
        "id": "f0c75640"
      },
      "outputs": [],
      "source": [
        "from sklearn.metrics import accuracy_score, precision_score, recall_score, f1_score\n",
        "\n",
        "results = []\n",
        "\n",
        "for name, model in trained_models.items():\n",
        "    y_pred = model.predict(X_test)\n",
        "    results.append({\n",
        "        \"Model\": name,\n",
        "        \"Accuracy\": accuracy_score(y_test, y_pred),\n",
        "        \"Precision\": precision_score(y_test, y_pred),\n",
        "        \"Recall\": recall_score(y_test, y_pred),\n",
        "        \"F1 Score\": f1_score(y_test, y_pred)\n",
        "    })\n",
        "\n",
        "df_results = pd.DataFrame(results)\n",
        "df_results.set_index(\"Model\", inplace=True)\n",
        "df_results"
      ]
    },
    {
      "cell_type": "markdown",
      "id": "dffb0a20",
      "metadata": {
        "id": "dffb0a20"
      },
      "source": [
        "## 4. Visualize the Dashboard"
      ]
    },
    {
      "cell_type": "code",
      "execution_count": null,
      "id": "5266a2a9",
      "metadata": {
        "id": "5266a2a9"
      },
      "outputs": [],
      "source": [
        "import matplotlib.pyplot as plt\n",
        "\n",
        "df_results.plot(kind=\"bar\", figsize=(10, 6))\n",
        "plt.title(\"Model Comparison Dashboard\")\n",
        "plt.ylabel(\"Score\")\n",
        "plt.xticks(rotation=45)\n",
        "plt.ylim(0.8, 1.0)\n",
        "plt.grid(True)\n",
        "plt.legend(loc=\"lower right\")\n",
        "plt.tight_layout()\n",
        "plt.show()"
      ]
    },
    {
      "cell_type": "markdown",
      "id": "720f57dc",
      "metadata": {
        "id": "720f57dc"
      },
      "source": [
        "## Summary\n",
        "- Compared multiple classifiers using standard metrics\n",
        "- Created a simple dashboard to visualize strengths and weaknesses\n",
        "- Helps choose the right model for your use case"
      ]
    },
    {
      "cell_type": "markdown",
      "id": "36a5d924",
      "metadata": {
        "id": "36a5d924"
      },
      "source": [
        "🎉 You've completed the **Model Building & Evaluation** module!\n",
        "Next up: **Hyperparameter Tuning & Optimization**"
      ]
    }
  ],
  "metadata": {
    "kernelspec": {
      "display_name": "Python 3",
      "name": "python3"
    },
    "colab": {
      "provenance": [],
      "include_colab_link": true
    }
  },
  "nbformat": 4,
  "nbformat_minor": 5
}