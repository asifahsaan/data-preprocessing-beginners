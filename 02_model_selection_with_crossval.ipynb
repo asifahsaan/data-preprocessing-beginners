{
  "cells": [
    {
      "cell_type": "markdown",
      "metadata": {
        "id": "view-in-github",
        "colab_type": "text"
      },
      "source": [
        "<a href=\"https://colab.research.google.com/github/asifahsaan/data-preprocessing-beginners/blob/main/02_model_selection_with_crossval.ipynb\" target=\"_parent\"><img src=\"https://colab.research.google.com/assets/colab-badge.svg\" alt=\"Open In Colab\"/></a>"
      ]
    },
    {
      "cell_type": "markdown",
      "id": "a5af3c55",
      "metadata": {
        "id": "a5af3c55"
      },
      "source": [
        "# 02 — Model Selection with Cross-Validation\n",
        "In this notebook, we’ll learn how to:\n",
        "- Use `cross_val_score` for reliable model evaluation\n",
        "- Compare different classifiers using k-fold cross-validation\n",
        "- Understand bias-variance trade-offs using scores"
      ]
    },
    {
      "cell_type": "markdown",
      "id": "6cb4ba76",
      "metadata": {
        "id": "6cb4ba76"
      },
      "source": [
        "## 1. Load Dataset"
      ]
    },
    {
      "cell_type": "code",
      "execution_count": null,
      "id": "1ec8b1b1",
      "metadata": {
        "id": "1ec8b1b1"
      },
      "outputs": [],
      "source": [
        "from sklearn.datasets import load_breast_cancer\n",
        "import pandas as pd\n",
        "\n",
        "# Load sample classification dataset\n",
        "data = load_breast_cancer()\n",
        "X = pd.DataFrame(data.data, columns=data.feature_names)\n",
        "y = data.target"
      ]
    },
    {
      "cell_type": "markdown",
      "id": "845876c8",
      "metadata": {
        "id": "845876c8"
      },
      "source": [
        "## 2. Compare Models with Cross-Validation"
      ]
    },
    {
      "cell_type": "code",
      "execution_count": null,
      "id": "ee3501c5",
      "metadata": {
        "id": "ee3501c5"
      },
      "outputs": [],
      "source": [
        "from sklearn.model_selection import cross_val_score\n",
        "from sklearn.linear_model import LogisticRegression\n",
        "from sklearn.ensemble import RandomForestClassifier\n",
        "from sklearn.svm import SVC\n",
        "\n",
        "models = {\n",
        "    \"LogisticRegression\": LogisticRegression(max_iter=500),\n",
        "    \"RandomForest\": RandomForestClassifier(),\n",
        "    \"SVM\": SVC()\n",
        "}\n",
        "\n",
        "for name, model in models.items():\n",
        "    scores = cross_val_score(model, X, y, cv=5)\n",
        "    print(f\"{name}: Mean Accuracy = {scores.mean():.3f} (+/- {scores.std():.3f})\")"
      ]
    },
    {
      "cell_type": "markdown",
      "id": "ca0003f5",
      "metadata": {
        "id": "ca0003f5"
      },
      "source": [
        "## 3. Visualize Cross-Validation Scores"
      ]
    },
    {
      "cell_type": "code",
      "execution_count": null,
      "id": "bea41307",
      "metadata": {
        "id": "bea41307"
      },
      "outputs": [],
      "source": [
        "import matplotlib.pyplot as plt\n",
        "\n",
        "cv_results = {}\n",
        "for name, model in models.items():\n",
        "    cv_results[name] = cross_val_score(model, X, y, cv=5)\n",
        "\n",
        "plt.boxplot(cv_results.values(), labels=cv_results.keys())\n",
        "plt.ylabel(\"Accuracy\")\n",
        "plt.title(\"Cross-Validation Accuracy by Model\")\n",
        "plt.grid(True)\n",
        "plt.show()"
      ]
    },
    {
      "cell_type": "markdown",
      "id": "2324e922",
      "metadata": {
        "id": "2324e922"
      },
      "source": [
        "## Summary\n",
        "- Used `cross_val_score` with 5-fold cross-validation\n",
        "- Compared Logistic Regression, Random Forest, and SVM\n",
        "- Visualized score distributions to evaluate performance consistency"
      ]
    },
    {
      "cell_type": "markdown",
      "id": "19695d6c",
      "metadata": {
        "id": "19695d6c"
      },
      "source": [
        "## What’s Next?\n",
        "In the next notebook:\n",
        "**`03_classification_metrics.ipynb`** — we’ll explore accuracy, precision, recall, and F1-score for deeper model evaluation."
      ]
    }
  ],
  "metadata": {
    "kernelspec": {
      "display_name": "Python 3",
      "name": "python3"
    },
    "colab": {
      "provenance": [],
      "include_colab_link": true
    }
  },
  "nbformat": 4,
  "nbformat_minor": 5
}