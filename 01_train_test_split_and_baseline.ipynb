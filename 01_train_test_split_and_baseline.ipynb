{
  "cells": [
    {
      "cell_type": "markdown",
      "metadata": {
        "id": "view-in-github",
        "colab_type": "text"
      },
      "source": [
        "<a href=\"https://colab.research.google.com/github/asifahsaan/data-preprocessing-beginners/blob/main/01_train_test_split_and_baseline.ipynb\" target=\"_parent\"><img src=\"https://colab.research.google.com/assets/colab-badge.svg\" alt=\"Open In Colab\"/></a>"
      ]
    },
    {
      "cell_type": "markdown",
      "id": "fa763ea4",
      "metadata": {
        "id": "fa763ea4"
      },
      "source": [
        "# 01 — Train/Test Split + Baseline Models\n",
        "In this notebook, we’ll learn how to:\n",
        "- Split data into training and testing sets\n",
        "- Train simple baseline models for comparison\n",
        "- Evaluate them using accuracy for classification tasks"
      ]
    },
    {
      "cell_type": "markdown",
      "id": "9dc82acd",
      "metadata": {
        "id": "9dc82acd"
      },
      "source": [
        "## 1. Load Dataset"
      ]
    },
    {
      "cell_type": "code",
      "execution_count": null,
      "id": "7bcafdd6",
      "metadata": {
        "id": "7bcafdd6"
      },
      "outputs": [],
      "source": [
        "from sklearn.datasets import load_breast_cancer\n",
        "import pandas as pd\n",
        "\n",
        "# Load sample classification dataset\n",
        "data = load_breast_cancer()\n",
        "X = pd.DataFrame(data.data, columns=data.feature_names)\n",
        "y = data.target\n",
        "\n",
        "X.shape"
      ]
    },
    {
      "cell_type": "markdown",
      "id": "53e19b69",
      "metadata": {
        "id": "53e19b69"
      },
      "source": [
        "## 2. Train/Test Split"
      ]
    },
    {
      "cell_type": "code",
      "execution_count": null,
      "id": "e9a40ef7",
      "metadata": {
        "id": "e9a40ef7"
      },
      "outputs": [],
      "source": [
        "from sklearn.model_selection import train_test_split\n",
        "\n",
        "X_train, X_test, y_train, y_test = train_test_split(X, y, test_size=0.2, random_state=42)\n",
        "print(f\"Train size: {X_train.shape}, Test size: {X_test.shape}\")"
      ]
    },
    {
      "cell_type": "markdown",
      "id": "4caacdf1",
      "metadata": {
        "id": "4caacdf1"
      },
      "source": [
        "##  3. DummyClassifier as Baseline"
      ]
    },
    {
      "cell_type": "code",
      "execution_count": null,
      "id": "333eec83",
      "metadata": {
        "id": "333eec83"
      },
      "outputs": [],
      "source": [
        "from sklearn.dummy import DummyClassifier\n",
        "\n",
        "# Most frequent class baseline\n",
        "dummy = DummyClassifier(strategy=\"most_frequent\")\n",
        "dummy.fit(X_train, y_train)\n",
        "y_pred_dummy = dummy.predict(X_test)"
      ]
    },
    {
      "cell_type": "markdown",
      "id": "e2fc0bd8",
      "metadata": {
        "id": "e2fc0bd8"
      },
      "source": [
        "##  4. Logistic Regression Model"
      ]
    },
    {
      "cell_type": "code",
      "execution_count": null,
      "id": "e0df7713",
      "metadata": {
        "id": "e0df7713"
      },
      "outputs": [],
      "source": [
        "from sklearn.linear_model import LogisticRegression\n",
        "\n",
        "model = LogisticRegression(max_iter=500)\n",
        "model.fit(X_train, y_train)\n",
        "y_pred_logreg = model.predict(X_test)"
      ]
    },
    {
      "cell_type": "markdown",
      "id": "ebbc7e47",
      "metadata": {
        "id": "ebbc7e47"
      },
      "source": [
        "## 5. Evaluate Models"
      ]
    },
    {
      "cell_type": "code",
      "execution_count": null,
      "id": "a00269e4",
      "metadata": {
        "id": "a00269e4"
      },
      "outputs": [],
      "source": [
        "from sklearn.metrics import accuracy_score\n",
        "\n",
        "acc_dummy = accuracy_score(y_test, y_pred_dummy)\n",
        "acc_logreg = accuracy_score(y_test, y_pred_logreg)\n",
        "\n",
        "print(f\"DummyClassifier Accuracy: {acc_dummy:.3f}\")\n",
        "print(f\"LogisticRegression Accuracy: {acc_logreg:.3f}\")"
      ]
    },
    {
      "cell_type": "markdown",
      "id": "7f73837b",
      "metadata": {
        "id": "7f73837b"
      },
      "source": [
        "## Summary\n",
        "- Used `train_test_split` to separate training/testing data\n",
        "- Trained a `DummyClassifier` as a performance baseline\n",
        "- Trained a real model (`LogisticRegression`) and compared accuracies"
      ]
    },
    {
      "cell_type": "markdown",
      "id": "611e784b",
      "metadata": {
        "id": "611e784b"
      },
      "source": [
        "## What’s Next?\n",
        " In the next notebook:\n",
        "**`02_model_selection_with_crossval.ipynb`** — you’ll learn how to use cross-validation to make more reliable model comparisons."
      ]
    }
  ],
  "metadata": {
    "kernelspec": {
      "display_name": "Python 3",
      "name": "python3"
    },
    "colab": {
      "provenance": [],
      "include_colab_link": true
    }
  },
  "nbformat": 4,
  "nbformat_minor": 5
}