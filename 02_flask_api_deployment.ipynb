{
 "cells": [
  {
   "cell_type": "markdown",
   "id": "945810df",
   "metadata": {},
   "source": [
    "# 🌐 02 — Creating a REST API with Flask\n",
    "\n",
    "In this notebook, we’ll learn how to wrap our trained model into a simple **REST API** using Flask. This makes it easy to send data and receive predictions via HTTP.\n"
   ]
  },
  {
   "cell_type": "markdown",
   "id": "250c299c",
   "metadata": {},
   "source": [
    "## 🚀 Why Flask?\n",
    "Flask is a lightweight Python web framework that lets us quickly deploy machine learning models with a few lines of code.\n"
   ]
  },
  {
   "cell_type": "markdown",
   "id": "ba179097",
   "metadata": {},
   "source": [
    "## 🔍 1. Load Saved Model"
   ]
  },
  {
   "cell_type": "code",
   "execution_count": null,
   "id": "54eb6282",
   "metadata": {},
   "outputs": [],
   "source": [
    "import joblib\n",
    "\n",
    "# Load pipeline\n",
    "model = joblib.load(\"rf_pipeline.joblib\")"
   ]
  },
  {
   "cell_type": "markdown",
   "id": "868a0b4a",
   "metadata": {},
   "source": [
    "## 🛠️ 2. Build a Simple Flask API"
   ]
  },
  {
   "cell_type": "code",
   "execution_count": null,
   "id": "4a2f2809",
   "metadata": {},
   "outputs": [],
   "source": [
    "from flask import Flask, request, jsonify\n",
    "import numpy as np\n",
    "\n",
    "app = Flask(__name__)\n",
    "\n",
    "@app.route('/predict', methods=['POST'])\n",
    "def predict():\n",
    "    try:\n",
    "        data = request.get_json()\n",
    "        features = np.array(data['features']).reshape(1, -1)\n",
    "        prediction = model.predict(features)\n",
    "        return jsonify({'prediction': prediction.tolist()})\n",
    "    except Exception as e:\n",
    "        return jsonify({'error': str(e)})\n",
    "\n",
    "# Uncomment the next line to run the app locally\n",
    "# app.run(debug=True)"
   ]
  },
  {
   "cell_type": "markdown",
   "id": "4158e299",
   "metadata": {},
   "source": [
    "## 🧪 3. Sample Input Format for POST Request"
   ]
  },
  {
   "cell_type": "code",
   "execution_count": null,
   "id": "035eaa9a",
   "metadata": {},
   "outputs": [],
   "source": [
    "# Sample POST request body\n",
    "{\n",
    "    \"features\": [5.1, 3.5, 1.4, 0.2]\n",
    "}"
   ]
  },
  {
   "cell_type": "markdown",
   "id": "1b7c8ca4",
   "metadata": {},
   "source": [
    "## 📬 4. Send Request Using `curl` or Postman"
   ]
  },
  {
   "cell_type": "code",
   "execution_count": null,
   "id": "2ccb6d7f",
   "metadata": {},
   "outputs": [],
   "source": [
    "# Using curl (in terminal):\n",
    "# curl -X POST http://127.0.0.1:5000/predict -H \"Content-Type: application/json\" -d \"{\"features\": [5.1, 3.5, 1.4, 0.2]}\" "
   ]
  },
  {
   "cell_type": "markdown",
   "id": "d919c678",
   "metadata": {},
   "source": [
    "## ✅ Summary\n",
    "\n",
    "- Created a Flask app to expose a `/predict` endpoint\n",
    "- Used `joblib` to load our saved pipeline\n",
    "- Demonstrated how to send test requests via JSON\n",
    "\n",
    "➡️ Next: We’ll **containerize** this API using **Docker** for deployment.\n"
   ]
  }
 ],
 "metadata": {},
 "nbformat": 4,
 "nbformat_minor": 5
}
